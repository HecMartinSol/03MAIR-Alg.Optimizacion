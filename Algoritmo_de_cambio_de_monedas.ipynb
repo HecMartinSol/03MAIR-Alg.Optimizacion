{
  "nbformat": 4,
  "nbformat_minor": 0,
  "metadata": {
    "colab": {
      "name": "Algoritmo de cambio de monedas",
      "provenance": [],
      "collapsed_sections": [],
      "include_colab_link": true
    },
    "kernelspec": {
      "name": "python3",
      "display_name": "Python 3"
    }
  },
  "cells": [
    {
      "cell_type": "markdown",
      "metadata": {
        "id": "view-in-github",
        "colab_type": "text"
      },
      "source": [
        "<a href=\"https://colab.research.google.com/github/HecMartinSol/03MAIR-Alg.Optimizacion/blob/master/Algoritmo_de_cambio_de_monedas.ipynb\" target=\"_parent\"><img src=\"https://colab.research.google.com/assets/colab-badge.svg\" alt=\"Open In Colab\"/></a>"
      ]
    },
    {
      "cell_type": "code",
      "metadata": {
        "id": "XOdJWrUPzqwj",
        "colab_type": "code",
        "colab": {
          "base_uri": "https://localhost:8080/",
          "height": 34
        },
        "outputId": "6437b9e1-4026-4210-ce32-3876af53e464"
      },
      "source": [
        "# FORO - Algoritmo voraz: cambio con monedas [25,10,5,1]\n",
        "def cambioMonedas(total, tipos_monedas, solucion, acum):\n",
        "    for i in range(len(tipos_monedas)):\n",
        "      if(acum < total):\n",
        "        queda_actual = total - tipos_monedas[i]\n",
        "        # print(\"total\",total, \"queda\",queda_actual)\n",
        "        if(queda_actual >= 0):\n",
        "            # print(\"-> coje moneda de\", tipos_monedas[i])\n",
        "            solucion[i] += 1\n",
        "            acum += tipos_monedas[i]\n",
        "            solucion, acum = cambioMonedas(queda_actual, tipos_monedas, solucion, acum)  \n",
        "    \n",
        "    return solucion, acum\n",
        "\n",
        "sol = cambioMonedas(300, [25,10,5,1], [0,0,0,0], 0)\n",
        "print(sol)"
      ],
      "execution_count": 1,
      "outputs": [
        {
          "output_type": "stream",
          "text": [
            "([9, 6, 3, 0], 300)\n"
          ],
          "name": "stdout"
        }
      ]
    }
  ]
}