{
  "nbformat": 4,
  "nbformat_minor": 0,
  "metadata": {
    "colab": {
      "name": "hector-martin-solis-AG2.ipynb",
      "provenance": [],
      "collapsed_sections": [],
      "include_colab_link": true
    },
    "kernelspec": {
      "name": "python3",
      "display_name": "Python 3"
    }
  },
  "cells": [
    {
      "cell_type": "markdown",
      "metadata": {
        "id": "view-in-github",
        "colab_type": "text"
      },
      "source": [
        "<a href=\"https://colab.research.google.com/github/HecMartinSol/03MAIR-Alg.Optimizacion/blob/master/AG2/hector_martin_solis_AG2.ipynb\" target=\"_parent\"><img src=\"https://colab.research.google.com/assets/colab-badge.svg\" alt=\"Open In Colab\"/></a>"
      ]
    },
    {
      "cell_type": "markdown",
      "metadata": {
        "id": "wNN2xjI4sXta",
        "colab_type": "text"
      },
      "source": [
        "AG2 - Actividad guiada\n",
        "\n",
        "Héctor Martín Solís\n",
        "\n",
        "https://colab.research.google.com/drive/1SNDxQQ2oVmF_IqXizcoeuzj9pJ18EO1O"
      ]
    },
    {
      "cell_type": "markdown",
      "metadata": {
        "id": "bMjijLq44tsd",
        "colab_type": "text"
      },
      "source": [
        "#### Problema: Viaje por el rio\n",
        "\n",
        "-  Consideramos una tabla T(i,j) para almacenar todos los precios que nos ofrecen \n",
        "los embarcaderos \n",
        "- Si no es posible ir desde i a j daremos un valor alto para garantizar que ese\n",
        "trayecto no se va a elegir en la ruta óptima(modelado habitual para restricciones)\n",
        "- Establecer una tabla intermedia para de soluciones óptimas parciales para ir\n",
        "desde i a j."
      ]
    },
    {
      "cell_type": "code",
      "metadata": {
        "id": "tGZvmn1osvMH",
        "colab_type": "code",
        "colab": {}
      },
      "source": [
        "##OK\n",
        "tarifas = [\n",
        "  [0,5,4,3,999,999,999],\n",
        "  [999,0,999,2,3,999,11],\n",
        "  [999,999, 0,1,999,4,10],\n",
        "  [999,999,999, 0,5,6,9],\n",
        "  [999,999, 999,999,0,999,4],\n",
        "  [999,999, 999,999,999,0,3],\n",
        "  [999,999,999,999,999,999,0]\n",
        "]"
      ],
      "execution_count": 0,
      "outputs": []
    },
    {
      "cell_type": "code",
      "metadata": {
        "id": "DB_8Bjsjts5v",
        "colab_type": "code",
        "colab": {}
      },
      "source": [
        "def precios(tarifas):\n",
        "################################################################  \n",
        "  #Total de Nodos\n",
        "  n = len(tarifas[0])\n",
        "  \n",
        "  #Inicialización de la tabla de precios\n",
        "  precios = [ [9999] * n  for i in [9999] * n ]\n",
        "  ruta = [ [\"\"] * n  for i in [\"\"] * n ]\n",
        "  \n",
        "  for i in range(n-1):\n",
        "    for j in range(i+1, n):\n",
        "      minimo = tarifas[i][j]\n",
        "      ruta[i][j] = i\n",
        "      \n",
        "      for k in range(i, j):\n",
        "        if precios[i][k] + tarifas[k][j] < minimo:\n",
        "            minimo = min(minimo, precios[i][k] + tarifas[k][j])\n",
        "            ruta[i][j] = k\n",
        "\n",
        "        precios[i][j] = minimo\n",
        "        \n",
        "  return precios,ruta"
      ],
      "execution_count": 0,
      "outputs": []
    },
    {
      "cell_type": "code",
      "metadata": {
        "id": "cctuIZh3w65L",
        "colab_type": "code",
        "colab": {
          "base_uri": "https://localhost:8080/",
          "height": 306
        },
        "outputId": "4e96b775-c737-420f-f9e3-0f8796b6759c"
      },
      "source": [
        "precios,ruta = precios(tarifas)  \n",
        "#print(precios[0][6])\n",
        "\n",
        "print(\"precios\")\n",
        "for i in range(len(tarifas)):\n",
        "  print(precios[i])\n",
        "\n",
        "print(\"\\nruta\")  \n",
        "for i in range(len(tarifas)):\n",
        "  print(ruta[i]) \n",
        "\n"
      ],
      "execution_count": 6,
      "outputs": [
        {
          "output_type": "stream",
          "text": [
            "precios\n",
            "[9999, 5, 4, 3, 8, 8, 11]\n",
            "[9999, 9999, 999, 2, 3, 8, 7]\n",
            "[9999, 9999, 9999, 1, 6, 4, 7]\n",
            "[9999, 9999, 9999, 9999, 5, 6, 9]\n",
            "[9999, 9999, 9999, 9999, 9999, 999, 4]\n",
            "[9999, 9999, 9999, 9999, 9999, 9999, 3]\n",
            "[9999, 9999, 9999, 9999, 9999, 9999, 9999]\n",
            "\n",
            "ruta\n",
            "['', 0, 0, 0, 1, 2, 5]\n",
            "['', '', 1, 1, 1, 3, 4]\n",
            "['', '', '', 2, 3, 2, 5]\n",
            "['', '', '', '', 3, 3, 3]\n",
            "['', '', '', '', '', 4, 4]\n",
            "['', '', '', '', '', '', 5]\n",
            "['', '', '', '', '', '', '']\n"
          ],
          "name": "stdout"
        }
      ]
    },
    {
      "cell_type": "code",
      "metadata": {
        "id": "JI9QtFkjwUPU",
        "colab_type": "code",
        "colab": {
          "base_uri": "https://localhost:8080/",
          "height": 68
        },
        "outputId": "d3f550d0-eb98-427e-ed74-527205bd8a4e"
      },
      "source": [
        "def calcular_ruta(ruta, desde, hasta):\n",
        "  if desde == hasta:\n",
        "    return desde \n",
        "  else:\n",
        "    return str(calcular_ruta(ruta, desde, ruta[desde][hasta])) +  ',' + str(ruta[desde][hasta]) \n",
        "\n",
        "print(\"\\nLa ruta es:\")  \n",
        "calcular_ruta(ruta, 0,6)"
      ],
      "execution_count": 7,
      "outputs": [
        {
          "output_type": "stream",
          "text": [
            "\n",
            "La ruta es:\n"
          ],
          "name": "stdout"
        },
        {
          "output_type": "execute_result",
          "data": {
            "text/plain": [
              "'0,0,2,5'"
            ]
          },
          "metadata": {
            "tags": []
          },
          "execution_count": 7
        }
      ]
    },
    {
      "cell_type": "markdown",
      "metadata": {
        "id": "18XU4FEj0xfu",
        "colab_type": "text"
      },
      "source": [
        "----------------------------"
      ]
    },
    {
      "cell_type": "markdown",
      "metadata": {
        "id": "KJGAHAti4W32",
        "colab_type": "text"
      },
      "source": [
        "#### Problema: Asignación de tareas\n",
        "\n",
        "- El problema consiste en maximizar el rendimiento en cuanto a la asignación de\n",
        "N tareas a N agentes. Cada tarea solo puede ser asignado a un agente.\n",
        "- Los beneficios que se obtienen al realizar la tarea 1 por el agente A es 9\n",
        "- La matriz de beneficios es la que se muestra en la figura\n",
        "- Aplicando Ramificación y Poda, obtener la asignación que maximice los\n",
        "beneficios."
      ]
    },
    {
      "cell_type": "code",
      "metadata": {
        "id": "qCU778Fr5fJN",
        "colab_type": "code",
        "colab": {}
      },
      "source": [
        "costes = [\n",
        "  [11,12,18,40],\n",
        "  [14,15,13,22],\n",
        "  [11,17,19,23],\n",
        "  [17,14,20,28],\n",
        "]"
      ],
      "execution_count": 0,
      "outputs": []
    },
    {
      "cell_type": "code",
      "metadata": {
        "id": "3BO33xG-0zOO",
        "colab_type": "code",
        "colab": {
          "base_uri": "https://localhost:8080/",
          "height": 34
        },
        "outputId": "8d9a7620-293d-453f-df1d-15c3d44ac3e1"
      },
      "source": [
        "def valor(s, costes):\n",
        "  valor = 0\n",
        "  for i in range(len(s)):\n",
        "    valor += costes[s[i]][i]\n",
        "  return valor\n",
        "valor((0,1,2,3), costes)"
      ],
      "execution_count": 9,
      "outputs": [
        {
          "output_type": "execute_result",
          "data": {
            "text/plain": [
              "73"
            ]
          },
          "metadata": {
            "tags": []
          },
          "execution_count": 9
        }
      ]
    },
    {
      "cell_type": "code",
      "metadata": {
        "id": "5dsEYoPB50WQ",
        "colab_type": "code",
        "colab": {}
      },
      "source": [
        "# TO-DO FUERZA BRUTA"
      ],
      "execution_count": 0,
      "outputs": []
    },
    {
      "cell_type": "code",
      "metadata": {
        "id": "nM5sQ1o-7v1f",
        "colab_type": "code",
        "colab": {}
      },
      "source": [
        "#Coste inferior para soluciones parciales\n",
        "#  (1,3,) se asigna la tarea 1 al agente 0 y la tarea 3 al agente 1\n",
        "\n",
        "def cota_inferior(s,costes):\n",
        "  valor = 0\n",
        "  #valores establecidos\n",
        "  for i in range(len(s)):\n",
        "    valor += costes[i][s[i]]\n",
        "\n",
        "  #Estimacion\n",
        "  for i in range(len(costes)):\n",
        "    if i not in s:\n",
        "      valor += min( [ costes[j][i] for j in range(len(s), len(costes))  ])\n",
        "  return valor"
      ],
      "execution_count": 0,
      "outputs": []
    },
    {
      "cell_type": "code",
      "metadata": {
        "id": "t8RqmKO48qt1",
        "colab_type": "code",
        "colab": {}
      },
      "source": [
        "#Genera tantos hijos como como posibilidades haya para la siguiente elemento de la tupla\n",
        "#(0,) -> (0,1), (0,2), (0,3)\n",
        "def crear_hijos(nodo, n):\n",
        "  hijos = []\n",
        "  for i in range(n):\n",
        "    if i not in nodo:\n",
        "      hijos.append({'s':nodo +(i,)})\n",
        "  return hijos"
      ],
      "execution_count": 0,
      "outputs": []
    },
    {
      "cell_type": "code",
      "metadata": {
        "id": "qgtCrFYr87vI",
        "colab_type": "code",
        "colab": {}
      },
      "source": [
        "def cota_superior(s,costes):\n",
        "  valor = 0\n",
        "  #valores establecidos\n",
        "  for i in range(len(s)):\n",
        "    valor += costes[i][s[i]]\n",
        "\n",
        "  #Estimacion\n",
        "  for i in range(  len(costes)):\n",
        "    if i not in s:\n",
        "      valor += max( [ costes[j][i] for j in range(len(s), len(costes))])\n",
        "  return valor"
      ],
      "execution_count": 0,
      "outputs": []
    },
    {
      "cell_type": "code",
      "metadata": {
        "id": "THurYnca9wlF",
        "colab_type": "code",
        "colab": {}
      },
      "source": [
        "def ramificacion_y_poda(costes):\n",
        "#Construccion iterativa de soluciones(arbol). En cada etapa asignamos un agente(ramas).\n",
        "#nodos del grafo  { s:(1,2),CI:3,CS:5  }\n",
        "  #print(costes)\n",
        "  dimension = len(costes)  \n",
        "  mejor_solucion=tuple( i for i in range(len(costes)) )\n",
        "  cot_superior = valor(mejor_solucion,costes)\n",
        "  #print(\"Cota Superior:\", cot_superior)\n",
        "\n",
        "  nodos=[]\n",
        "  nodos.append({'s':(), 'ci':cota_inferior((),costes)    } )\n",
        "\n",
        "  iteracion = 0\n",
        "\n",
        "  while( len(nodos) > 0):\n",
        "    iteracion +=1\n",
        "\n",
        "    nodo_prometedor = [ min(nodos, key=lambda x:x['ci']) ][0]['s']\n",
        "    #print(\"Nodo prometedor:\", nodo_prometedor)\n",
        "\n",
        "    #Ramificacion\n",
        "    #Se generan los hijos\n",
        "    hijos =[ {'s':x['s'], 'ci':cota_inferior(x['s'], costes)   } for x in crear_hijos(nodo_prometedor, dimension) ]\n",
        "\n",
        "    #Revisamos la cota superior y nos quedamos con la mejor solucion si llegamos a una solucion final\n",
        "    nodo_final = [x for x in hijos if len(x['s']) == dimension  ]\n",
        "    if len(nodo_final ) >0: \n",
        "      #print(\"\\n********Soluciones:\",  [x for x in hijos if len(x['s']) == dimension  ] )\n",
        "      if nodo_final[0]['ci'] < cot_superior:\n",
        "        cot_superior = nodo_final[0]['ci']\n",
        "        mejor_solucion = nodo_final\n",
        " \n",
        "    #Poda\n",
        "    hijos = [x for x in hijos if x['ci'] < cot_superior   ]\n",
        "\n",
        "    #Añadimos los hijos \n",
        "    nodos.extend(hijos) \n",
        "\n",
        "    #Eliminamos el nodo ramificado\n",
        "    nodos =  [  x for x in nodos if x['s'] != nodo_prometedor    ]\n",
        "   \n",
        "    print(\"La solucion final es:\" ,mejor_solucion , \" en \" , iteracion , \" iteraciones\" , \" para dimension: \" ,dimension  )"
      ],
      "execution_count": 0,
      "outputs": []
    },
    {
      "cell_type": "code",
      "metadata": {
        "id": "Cfijqoeg-Y8R",
        "colab_type": "code",
        "colab": {
          "base_uri": "https://localhost:8080/",
          "height": 255
        },
        "outputId": "49777792-a446-4b53-86a2-c052b715e123"
      },
      "source": [
        "ramificacion_y_poda(costes)"
      ],
      "execution_count": 21,
      "outputs": [
        {
          "output_type": "stream",
          "text": [
            "La solucion final es: (0, 1, 2, 3)  en  1  iteraciones  para dimension:  4\n",
            "La solucion final es: (0, 1, 2, 3)  en  2  iteraciones  para dimension:  4\n",
            "La solucion final es: (0, 1, 2, 3)  en  3  iteraciones  para dimension:  4\n",
            "La solucion final es: (0, 1, 2, 3)  en  4  iteraciones  para dimension:  4\n",
            "La solucion final es: (0, 1, 2, 3)  en  5  iteraciones  para dimension:  4\n",
            "La solucion final es: [{'s': (0, 2, 3, 1), 'ci': 61}]  en  6  iteraciones  para dimension:  4\n",
            "La solucion final es: [{'s': (0, 2, 3, 1), 'ci': 61}]  en  7  iteraciones  para dimension:  4\n",
            "La solucion final es: [{'s': (0, 2, 3, 1), 'ci': 61}]  en  8  iteraciones  para dimension:  4\n",
            "La solucion final es: [{'s': (0, 2, 3, 1), 'ci': 61}]  en  9  iteraciones  para dimension:  4\n",
            "La solucion final es: [{'s': (0, 2, 3, 1), 'ci': 61}]  en  10  iteraciones  para dimension:  4\n",
            "La solucion final es: [{'s': (0, 2, 3, 1), 'ci': 61}]  en  11  iteraciones  para dimension:  4\n",
            "La solucion final es: [{'s': (0, 2, 3, 1), 'ci': 61}]  en  12  iteraciones  para dimension:  4\n",
            "La solucion final es: [{'s': (0, 2, 3, 1), 'ci': 61}]  en  13  iteraciones  para dimension:  4\n",
            "La solucion final es: [{'s': (0, 2, 3, 1), 'ci': 61}]  en  14  iteraciones  para dimension:  4\n"
          ],
          "name": "stdout"
        }
      ]
    }
  ]
}