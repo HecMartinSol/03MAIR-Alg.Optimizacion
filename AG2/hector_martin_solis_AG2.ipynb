{
  "nbformat": 4,
  "nbformat_minor": 0,
  "metadata": {
    "colab": {
      "name": "hector-martin-solis-AG2.ipynb",
      "provenance": [],
      "collapsed_sections": [],
      "include_colab_link": true
    },
    "kernelspec": {
      "name": "python3",
      "display_name": "Python 3"
    }
  },
  "cells": [
    {
      "cell_type": "markdown",
      "metadata": {
        "id": "view-in-github",
        "colab_type": "text"
      },
      "source": [
        "<a href=\"https://colab.research.google.com/github/HecMartinSol/03MAIR-Alg.Optimizacion/blob/master/AG2/hector_martin_solis_AG2.ipynb\" target=\"_parent\"><img src=\"https://colab.research.google.com/assets/colab-badge.svg\" alt=\"Open In Colab\"/></a>"
      ]
    },
    {
      "cell_type": "markdown",
      "metadata": {
        "id": "wNN2xjI4sXta",
        "colab_type": "text"
      },
      "source": [
        "AG2 - Actividad guiada\n",
        "\n",
        "Héctor Martín Solís\n",
        "\n",
        "https://colab.research.google.com/drive/1SNDxQQ2oVmF_IqXizcoeuzj9pJ18EO1O"
      ]
    },
    {
      "cell_type": "markdown",
      "metadata": {
        "id": "XGVusbGk9szi",
        "colab_type": "text"
      },
      "source": [
        "-------- \n",
        "## Introducimos el decorador para poder medir tiempos"
      ]
    },
    {
      "cell_type": "code",
      "metadata": {
        "id": "fC42Ab6y-ubc",
        "colab_type": "code",
        "colab": {}
      },
      "source": [
        "import time\n",
        "# DECORADOR PARA MEDIR EL TIEMPO DE LOS ALGORITMOS\n",
        "def timer_decorator(method):\n",
        "    def measure_time(*args, **kw):\n",
        "        time_begin = time.time()\n",
        "        result = method(*args, **kw)\n",
        "        time_end = time.time()\n",
        "        ms_elapsed = (time_end - time_begin) * 1000\n",
        "\n",
        "        if 'log_time' in kw:\n",
        "            name = kw.get('log_name', method.__name__.upper())\n",
        "            kw['log_time'][name] = ms_elapsed\n",
        "        else:\n",
        "            print(method.__name__, \"lasted\", ms_elapsed, \"ms\")\n",
        "\n",
        "        return result\n",
        "    return measure_time"
      ],
      "execution_count": 0,
      "outputs": []
    },
    {
      "cell_type": "markdown",
      "metadata": {
        "id": "D_W94kHEAehY",
        "colab_type": "text"
      },
      "source": [
        "---------"
      ]
    },
    {
      "cell_type": "markdown",
      "metadata": {
        "id": "bMjijLq44tsd",
        "colab_type": "text"
      },
      "source": [
        "#### Problema: Viaje por el rio\n",
        "\n",
        "-  Consideramos una tabla T(i,j) para almacenar todos los precios que nos ofrecen \n",
        "los embarcaderos \n",
        "- Si no es posible ir desde i a j daremos un valor alto para garantizar que ese\n",
        "trayecto no se va a elegir en la ruta óptima(modelado habitual para restricciones)\n",
        "- Establecer una tabla intermedia para de soluciones óptimas parciales para ir\n",
        "desde i a j."
      ]
    },
    {
      "cell_type": "code",
      "metadata": {
        "id": "tGZvmn1osvMH",
        "colab_type": "code",
        "colab": {}
      },
      "source": [
        "##OK\n",
        "tarifas = [\n",
        "  [0,5,4,3,999,999,999],\n",
        "  [999,0,999,2,3,999,11],\n",
        "  [999,999, 0,1,999,4,10],\n",
        "  [999,999,999, 0,5,6,9],\n",
        "  [999,999, 999,999,0,999,4],\n",
        "  [999,999, 999,999,999,0,3],\n",
        "  [999,999,999,999,999,999,0]\n",
        "]"
      ],
      "execution_count": 0,
      "outputs": []
    },
    {
      "cell_type": "code",
      "metadata": {
        "id": "DB_8Bjsjts5v",
        "colab_type": "code",
        "colab": {}
      },
      "source": [
        "def precios(tarifas):\n",
        "################################################################  \n",
        "  #Total de Nodos\n",
        "  n = len(tarifas[0])\n",
        "  \n",
        "  #Inicialización de la tabla de precios\n",
        "  precios = [ [9999] * n  for i in [9999] * n ]\n",
        "  ruta = [ [\"\"] * n  for i in [\"\"] * n ]\n",
        "  \n",
        "  for i in range(n-1):\n",
        "    for j in range(i+1, n):\n",
        "      minimo = tarifas[i][j]\n",
        "      ruta[i][j] = i\n",
        "      \n",
        "      for k in range(i, j):\n",
        "        if precios[i][k] + tarifas[k][j] < minimo:\n",
        "            minimo = min(minimo, precios[i][k] + tarifas[k][j])\n",
        "            ruta[i][j] = k\n",
        "\n",
        "        precios[i][j] = minimo\n",
        "        \n",
        "  return precios,ruta"
      ],
      "execution_count": 0,
      "outputs": []
    },
    {
      "cell_type": "code",
      "metadata": {
        "id": "cctuIZh3w65L",
        "colab_type": "code",
        "outputId": "42b6cc24-2bf3-489a-a89e-01e1195bb82c",
        "colab": {
          "base_uri": "https://localhost:8080/",
          "height": 289
        }
      },
      "source": [
        "precios,ruta = precios(tarifas)  \n",
        "#print(precios[0][6])\n",
        "\n",
        "print(\"precios\")\n",
        "for i in range(len(tarifas)):\n",
        "  print(precios[i])\n",
        "\n",
        "print(\"rutaS MINIMAS\")  \n",
        "for i in range(len(tarifas)):\n",
        "  print(ruta[i]) \n",
        "\n"
      ],
      "execution_count": 75,
      "outputs": [
        {
          "output_type": "stream",
          "text": [
            "precios\n",
            "[9999, 5, 4, 3, 8, 8, 11]\n",
            "[9999, 9999, 999, 2, 3, 8, 7]\n",
            "[9999, 9999, 9999, 1, 6, 4, 7]\n",
            "[9999, 9999, 9999, 9999, 5, 6, 9]\n",
            "[9999, 9999, 9999, 9999, 9999, 999, 4]\n",
            "[9999, 9999, 9999, 9999, 9999, 9999, 3]\n",
            "[9999, 9999, 9999, 9999, 9999, 9999, 9999]\n",
            "rutaS MINIMAS\n",
            "['', 0, 0, 0, 1, 2, 5]\n",
            "['', '', 1, 1, 1, 3, 4]\n",
            "['', '', '', 2, 3, 2, 5]\n",
            "['', '', '', '', 3, 3, 3]\n",
            "['', '', '', '', '', 4, 4]\n",
            "['', '', '', '', '', '', 5]\n",
            "['', '', '', '', '', '', '']\n"
          ],
          "name": "stdout"
        }
      ]
    },
    {
      "cell_type": "code",
      "metadata": {
        "id": "JI9QtFkjwUPU",
        "colab_type": "code",
        "outputId": "d827c8b8-6cb6-4d3a-f82a-5c0eebaff206",
        "colab": {
          "base_uri": "https://localhost:8080/",
          "height": 68
        }
      },
      "source": [
        "def calcular_ruta(ruta, desde, hasta):\n",
        "  if desde == hasta:\n",
        "    return desde \n",
        "  else:\n",
        "    return str(calcular_ruta(ruta, desde, ruta[desde][hasta])) +  ',' + str(ruta[desde][hasta]) \n",
        "\n",
        "print(\"\\nLa ruta es:\")  \n",
        "calcular_ruta(ruta, 0,6)"
      ],
      "execution_count": 76,
      "outputs": [
        {
          "output_type": "stream",
          "text": [
            "\n",
            "La ruta es:\n"
          ],
          "name": "stdout"
        },
        {
          "output_type": "execute_result",
          "data": {
            "text/plain": [
              "'0,0,2,5'"
            ]
          },
          "metadata": {
            "tags": []
          },
          "execution_count": 76
        }
      ]
    },
    {
      "cell_type": "markdown",
      "metadata": {
        "id": "18XU4FEj0xfu",
        "colab_type": "text"
      },
      "source": [
        "----------------------------"
      ]
    },
    {
      "cell_type": "markdown",
      "metadata": {
        "id": "KJGAHAti4W32",
        "colab_type": "text"
      },
      "source": [
        "#### Problema: Asignación de tareas\n",
        "\n",
        "- El problema consiste en maximizar el rendimiento en cuanto a la asignación de\n",
        "N tareas a N agentes. Cada tarea solo puede ser asignado a un agente.\n",
        "- Los beneficios que se obtienen al realizar la tarea 1 por el agente A es 9\n",
        "- La matriz de beneficios es la que se muestra en la figura\n",
        "- Aplicando Ramificación y Poda, obtener la asignación que maximice los\n",
        "beneficios."
      ]
    },
    {
      "cell_type": "code",
      "metadata": {
        "id": "qCU778Fr5fJN",
        "colab_type": "code",
        "colab": {}
      },
      "source": [
        "costes = [\n",
        "  [11,12,18,40],\n",
        "  [14,15,13,22],\n",
        "  [11,17,19,23],\n",
        "  [17,14,20,28],\n",
        "]"
      ],
      "execution_count": 0,
      "outputs": []
    },
    {
      "cell_type": "code",
      "metadata": {
        "id": "3BO33xG-0zOO",
        "colab_type": "code",
        "outputId": "a93ee1dd-ceb6-4bf9-c959-5e71faef143c",
        "colab": {
          "base_uri": "https://localhost:8080/",
          "height": 34
        }
      },
      "source": [
        "def valor(s, costes):\n",
        "  valor = 0\n",
        "  for i in range(len(s)):\n",
        "    valor += costes[s[i]][i]\n",
        "  return valor\n",
        "valor((0,1,2,3), costes)"
      ],
      "execution_count": 78,
      "outputs": [
        {
          "output_type": "execute_result",
          "data": {
            "text/plain": [
              "73"
            ]
          },
          "metadata": {
            "tags": []
          },
          "execution_count": 78
        }
      ]
    },
    {
      "cell_type": "code",
      "metadata": {
        "id": "nM5sQ1o-7v1f",
        "colab_type": "code",
        "colab": {}
      },
      "source": [
        "#Coste inferior para soluciones parciales\n",
        "#  (1,3,) se asigna la tarea 1 al agente 0 y la tarea 3 al agente 1\n",
        "\n",
        "def cota_inferior(s,costes):\n",
        "  valor = 0\n",
        "  #valores establecidos\n",
        "  for i in range(len(s)):\n",
        "    valor += costes[i][s[i]]\n",
        "\n",
        "  #Estimacion\n",
        "  for i in range(len(costes)):\n",
        "    if i not in s:\n",
        "      valor += min( [ costes[j][i] for j in range(len(s), len(costes))  ])\n",
        "  return valor"
      ],
      "execution_count": 0,
      "outputs": []
    },
    {
      "cell_type": "code",
      "metadata": {
        "id": "t8RqmKO48qt1",
        "colab_type": "code",
        "colab": {}
      },
      "source": [
        "#Genera tantos hijos como como posibilidades haya para la siguiente elemento de la tupla\n",
        "#(0,) -> (0,1), (0,2), (0,3)\n",
        "def crear_hijos(nodo, n):\n",
        "  hijos = []\n",
        "  for i in range(n):\n",
        "    if i not in nodo:\n",
        "      hijos.append({'s':nodo +(i,)})\n",
        "  return hijos"
      ],
      "execution_count": 0,
      "outputs": []
    },
    {
      "cell_type": "code",
      "metadata": {
        "id": "qgtCrFYr87vI",
        "colab_type": "code",
        "colab": {}
      },
      "source": [
        "def cota_superior(s,costes):\n",
        "  valor = 0\n",
        "  #valores establecidos\n",
        "  for i in range(len(s)):\n",
        "    valor += costes[i][s[i]]\n",
        "\n",
        "  #Estimacion\n",
        "  for i in range(  len(costes)):\n",
        "    if i not in s:\n",
        "      valor += max( [ costes[j][i] for j in range(len(s), len(costes))])\n",
        "  return valor"
      ],
      "execution_count": 0,
      "outputs": []
    },
    {
      "cell_type": "code",
      "metadata": {
        "id": "THurYnca9wlF",
        "colab_type": "code",
        "colab": {}
      },
      "source": [
        "@timer_decorator\n",
        "def ramificacion_y_poda(costes):\n",
        "#Construccion iterativa de soluciones(arbol). En cada etapa asignamos un agente(ramas).\n",
        "#nodos del grafo  { s:(1,2),CI:3,CS:5  }\n",
        "  #print(costes)\n",
        "  dimension = len(costes)  \n",
        "  mejor_solucion=tuple( i for i in range(len(costes)) )\n",
        "  cot_superior = valor(mejor_solucion,costes)\n",
        "  #print(\"Cota Superior:\", cot_superior)\n",
        "\n",
        "  nodos=[]\n",
        "  nodos.append({'s':(), 'ci':cota_inferior((),costes)    } )\n",
        "\n",
        "  iteracion = 0\n",
        "\n",
        "  while( len(nodos) > 0):\n",
        "    iteracion +=1\n",
        "\n",
        "    nodo_prometedor = [ min(nodos, key=lambda x:x['ci']) ][0]['s']\n",
        "    #print(\"Nodo prometedor:\", nodo_prometedor)\n",
        "\n",
        "    #Ramificacion\n",
        "    #Se generan los hijos\n",
        "    hijos =[ {'s':x['s'], 'ci':cota_inferior(x['s'], costes)   } for x in crear_hijos(nodo_prometedor, dimension) ]\n",
        "\n",
        "    #Revisamos la cota superior y nos quedamos con la mejor solucion si llegamos a una solucion final\n",
        "    nodo_final = [x for x in hijos if len(x['s']) == dimension  ]\n",
        "    if len(nodo_final ) >0: \n",
        "      #print(\"\\n********Soluciones:\",  [x for x in hijos if len(x['s']) == dimension  ] )\n",
        "      if nodo_final[0]['ci'] < cot_superior:\n",
        "        cot_superior = nodo_final[0]['ci']\n",
        "        mejor_solucion = nodo_final\n",
        " \n",
        "    #Poda\n",
        "    hijos = [x for x in hijos if x['ci'] < cot_superior   ]\n",
        "\n",
        "    #Añadimos los hijos \n",
        "    nodos.extend(hijos) \n",
        "\n",
        "    #Eliminamos el nodo ramificado\n",
        "    nodos =  [  x for x in nodos if x['s'] != nodo_prometedor    ]\n",
        "   \n",
        "  print(\"La solucion final es:\" ,mejor_solucion , \" en \" , iteracion , \" iteraciones\" , \" para dimension: \" ,dimension  )"
      ],
      "execution_count": 0,
      "outputs": []
    },
    {
      "cell_type": "code",
      "metadata": {
        "id": "Cfijqoeg-Y8R",
        "colab_type": "code",
        "outputId": "d529333b-8cbe-404d-d205-b49f1ee7afe9",
        "colab": {
          "base_uri": "https://localhost:8080/",
          "height": 51
        }
      },
      "source": [
        "ramificacion_y_poda(costes)"
      ],
      "execution_count": 89,
      "outputs": [
        {
          "output_type": "stream",
          "text": [
            "La solucion final es: [{'s': (0, 2, 3, 1), 'ci': 61}]  en  14  iteraciones  para dimension:  4\n",
            "ramificacion_y_poda lasted 1.6374588012695312 ms\n"
          ],
          "name": "stdout"
        }
      ]
    },
    {
      "cell_type": "markdown",
      "metadata": {
        "id": "vO2UmU9S9USl",
        "colab_type": "text"
      },
      "source": [
        "-------\n",
        "#### SOLUCION POR FUERZA BRUTA\n",
        "Tiene un coste de O(n!) ya que tiene que explorar las soluciones de todas las permutaciones de agentes y tareas\n"
      ]
    },
    {
      "cell_type": "code",
      "metadata": {
        "id": "mfQ9sA5X8Veo",
        "colab_type": "code",
        "colab": {
          "base_uri": "https://localhost:8080/",
          "height": 51
        },
        "outputId": "79f9c86f-4658-4702-ae18-38cc31051596"
      },
      "source": [
        "import itertools\n",
        "\n",
        "@timer_decorator \n",
        "def fuerza_bruta(costes):\n",
        "  mejor_valor = 10e10\n",
        "  mejor_solucion = ()\n",
        "\n",
        "  for s in list(itertools.permutations(range(len(costes)))):\n",
        "    valor_tmp = valor(s, costes)\n",
        "    if valor_tmp < mejor_valor:\n",
        "      mejor_valor = valor_tmp\n",
        "      mejor_solucion = s\n",
        "\n",
        "  print(\"Mejor solucion:\", mejor_solucion, \" con valor \", mejor_valor)\n",
        "fuerza_bruta(costes)"
      ],
      "execution_count": 84,
      "outputs": [
        {
          "output_type": "stream",
          "text": [
            "Mejor solucion: (0, 3, 1, 2)  con valor  61\n",
            "fuerza_bruta lasted 2.1729469299316406 ms\n"
          ],
          "name": "stdout"
        }
      ]
    },
    {
      "cell_type": "markdown",
      "metadata": {
        "id": "pn4q-cun_gHS",
        "colab_type": "text"
      },
      "source": [
        "#### COMPROBAR TIEMPOS PARA FUERZA\n",
        "Realizamos un bucle con matrices aleatoria de costes para colcular cuanto tiempo tarda la ejecución del algoritmo.\n",
        "\n",
        "A partir de matrices 10x10 los tiempos empiezan a dispararse para el algoritmo de fuerza bruta y empieza a no ser una opción viable"
      ]
    },
    {
      "cell_type": "code",
      "metadata": {
        "colab_type": "code",
        "outputId": "17442743-43ca-4d26-ca59-8d848b6d19ea",
        "id": "-3RvTyHf_ZmN",
        "colab": {
          "base_uri": "https://localhost:8080/",
          "height": 391
        }
      },
      "source": [
        "import numpy as np\n",
        "\n",
        "for i in range(11):\n",
        "  coste_act = np.random.randint(10, size=(i, i))\n",
        "  fuerza_bruta(coste_act)\n"
      ],
      "execution_count": 85,
      "outputs": [
        {
          "output_type": "stream",
          "text": [
            "Mejor solucion: ()  con valor  0\n",
            "fuerza_bruta lasted 1.5757083892822266 ms\n",
            "Mejor solucion: (0,)  con valor  6\n",
            "fuerza_bruta lasted 1.5709400177001953 ms\n",
            "Mejor solucion: (1, 0)  con valor  4\n",
            "fuerza_bruta lasted 0.19979476928710938 ms\n",
            "Mejor solucion: (0, 2, 1)  con valor  2\n",
            "fuerza_bruta lasted 0.18310546875 ms\n",
            "Mejor solucion: (0, 1, 3, 2)  con valor  17\n",
            "fuerza_bruta lasted 1.2352466583251953 ms\n",
            "Mejor solucion: (4, 2, 1, 0, 3)  con valor  19\n",
            "fuerza_bruta lasted 0.7936954498291016 ms\n",
            "Mejor solucion: (2, 0, 3, 1, 4, 5)  con valor  8\n",
            "fuerza_bruta lasted 8.792400360107422 ms\n",
            "Mejor solucion: (1, 2, 0, 3, 4, 6, 5)  con valor  10\n",
            "fuerza_bruta lasted 20.39647102355957 ms\n",
            "Mejor solucion: (5, 0, 1, 2, 3, 7, 4, 6)  con valor  15\n",
            "fuerza_bruta lasted 177.7360439300537 ms\n",
            "Mejor solucion: (6, 7, 5, 8, 2, 0, 3, 1, 4)  con valor  11\n",
            "fuerza_bruta lasted 1750.0693798065186 ms\n",
            "Mejor solucion: (8, 0, 7, 6, 1, 4, 3, 5, 2, 9)  con valor  6\n",
            "fuerza_bruta lasted 18878.307342529297 ms\n"
          ],
          "name": "stdout"
        }
      ]
    },
    {
      "cell_type": "markdown",
      "metadata": {
        "id": "IpJYoIAsAA_y",
        "colab_type": "text"
      },
      "source": [
        "#### COMPROBAR TIEMPOS PARA RAMIFICACION Y PODA\n",
        "Realizamos un bucle con matrices aleatoria de costes para colcular cuanto tiempo tarda la ejecución del algoritmo.\n",
        "\n",
        "A partir de matrices 15x15 los tiempos empiezan a dispararse para el algoritmo de fuerza bruta y empieza a no ser una opción viable"
      ]
    },
    {
      "cell_type": "code",
      "metadata": {
        "id": "qbEU_Q9d-8W9",
        "colab_type": "code",
        "colab": {
          "base_uri": "https://localhost:8080/",
          "height": 884
        },
        "outputId": "8a1dfeb4-61a3-49f6-db31-ee378e5b347a"
      },
      "source": [
        "import numpy as np\n",
        "\n",
        "for i in range(18):\n",
        "  coste_act = np.random.randint(10, size=(i, i))\n",
        "  ramificacion_y_poda(coste_act)\n"
      ],
      "execution_count": 94,
      "outputs": [
        {
          "output_type": "stream",
          "text": [
            "La solucion final es: ()  en  1  iteraciones  para dimension:  0\n",
            "ramificacion_y_poda lasted 3.4945011138916016 ms\n",
            "La solucion final es: (0,)  en  1  iteraciones  para dimension:  1\n",
            "ramificacion_y_poda lasted 1.1758804321289062 ms\n",
            "La solucion final es: [{'s': (1, 0), 'ci': 4}]  en  2  iteraciones  para dimension:  2\n",
            "ramificacion_y_poda lasted 1.2767314910888672 ms\n",
            "La solucion final es: [{'s': (1, 2, 0), 'ci': 16}]  en  3  iteraciones  para dimension:  3\n",
            "ramificacion_y_poda lasted 1.184225082397461 ms\n",
            "La solucion final es: [{'s': (2, 0, 3, 1), 'ci': 7}]  en  10  iteraciones  para dimension:  4\n",
            "ramificacion_y_poda lasted 1.9583702087402344 ms\n",
            "La solucion final es: [{'s': (1, 2, 4, 3, 0), 'ci': 15}]  en  21  iteraciones  para dimension:  5\n",
            "ramificacion_y_poda lasted 1.4007091522216797 ms\n",
            "La solucion final es: [{'s': (4, 5, 0, 1, 3, 2), 'ci': 9}]  en  26  iteraciones  para dimension:  6\n",
            "ramificacion_y_poda lasted 2.650022506713867 ms\n",
            "La solucion final es: [{'s': (0, 4, 2, 5, 1, 3, 6), 'ci': 7}]  en  99  iteraciones  para dimension:  7\n",
            "ramificacion_y_poda lasted 7.325649261474609 ms\n",
            "La solucion final es: [{'s': (1, 0, 4, 5, 3, 6, 7, 2), 'ci': 12}]  en  166  iteraciones  para dimension:  8\n",
            "ramificacion_y_poda lasted 13.736963272094727 ms\n",
            "La solucion final es: [{'s': (4, 5, 8, 0, 6, 7, 3, 1, 2), 'ci': 8}]  en  51  iteraciones  para dimension:  9\n",
            "ramificacion_y_poda lasted 8.233070373535156 ms\n",
            "La solucion final es: [{'s': (9, 3, 0, 6, 7, 4, 8, 5, 2, 1), 'ci': 8}]  en  2187  iteraciones  para dimension:  10\n",
            "ramificacion_y_poda lasted 672.0497608184814 ms\n",
            "La solucion final es: [{'s': (2, 4, 8, 10, 1, 3, 9, 7, 5, 0, 6), 'ci': 11}]  en  1016  iteraciones  para dimension:  11\n",
            "ramificacion_y_poda lasted 283.611536026001 ms\n",
            "La solucion final es: [{'s': (1, 3, 10, 7, 11, 8, 6, 5, 2, 0, 9, 4), 'ci': 10}]  en  1217  iteraciones  para dimension:  12\n",
            "ramificacion_y_poda lasted 367.9986000061035 ms\n",
            "La solucion final es: [{'s': (11, 6, 10, 8, 3, 4, 12, 5, 1, 2, 0, 9, 7), 'ci': 10}]  en  1237  iteraciones  para dimension:  13\n",
            "ramificacion_y_poda lasted 488.8174533843994 ms\n",
            "La solucion final es: [{'s': (9, 0, 1, 13, 4, 7, 12, 3, 5, 2, 8, 10, 6, 11), 'ci': 11}]  en  4878  iteraciones  para dimension:  14\n",
            "ramificacion_y_poda lasted 4043.708324432373 ms\n",
            "La solucion final es: [{'s': (13, 7, 1, 4, 2, 6, 11, 10, 14, 3, 8, 5, 12, 9, 0), 'ci': 8}]  en  45191  iteraciones  para dimension:  15\n",
            "ramificacion_y_poda lasted 308338.24157714844 ms\n"
          ],
          "name": "stdout"
        },
        {
          "output_type": "error",
          "ename": "KeyboardInterrupt",
          "evalue": "ignored",
          "traceback": [
            "\u001b[0;31m---------------------------------------------------------------------------\u001b[0m",
            "\u001b[0;31mKeyboardInterrupt\u001b[0m                         Traceback (most recent call last)",
            "\u001b[0;32m<ipython-input-94-c1628232f72c>\u001b[0m in \u001b[0;36m<module>\u001b[0;34m()\u001b[0m\n\u001b[1;32m      3\u001b[0m \u001b[0;32mfor\u001b[0m \u001b[0mi\u001b[0m \u001b[0;32min\u001b[0m \u001b[0mrange\u001b[0m\u001b[0;34m(\u001b[0m\u001b[0;36m18\u001b[0m\u001b[0;34m)\u001b[0m\u001b[0;34m:\u001b[0m\u001b[0;34m\u001b[0m\u001b[0;34m\u001b[0m\u001b[0m\n\u001b[1;32m      4\u001b[0m   \u001b[0mcoste_act\u001b[0m \u001b[0;34m=\u001b[0m \u001b[0mnp\u001b[0m\u001b[0;34m.\u001b[0m\u001b[0mrandom\u001b[0m\u001b[0;34m.\u001b[0m\u001b[0mrandint\u001b[0m\u001b[0;34m(\u001b[0m\u001b[0;36m10\u001b[0m\u001b[0;34m,\u001b[0m \u001b[0msize\u001b[0m\u001b[0;34m=\u001b[0m\u001b[0;34m(\u001b[0m\u001b[0mi\u001b[0m\u001b[0;34m,\u001b[0m \u001b[0mi\u001b[0m\u001b[0;34m)\u001b[0m\u001b[0;34m)\u001b[0m\u001b[0;34m\u001b[0m\u001b[0;34m\u001b[0m\u001b[0m\n\u001b[0;32m----> 5\u001b[0;31m   \u001b[0mramificacion_y_poda\u001b[0m\u001b[0;34m(\u001b[0m\u001b[0mcoste_act\u001b[0m\u001b[0;34m)\u001b[0m\u001b[0;34m\u001b[0m\u001b[0;34m\u001b[0m\u001b[0m\n\u001b[0m",
            "\u001b[0;32m<ipython-input-72-ef7bfe57d9c3>\u001b[0m in \u001b[0;36mmeasure_time\u001b[0;34m(*args, **kw)\u001b[0m\n\u001b[1;32m      4\u001b[0m     \u001b[0;32mdef\u001b[0m \u001b[0mmeasure_time\u001b[0m\u001b[0;34m(\u001b[0m\u001b[0;34m*\u001b[0m\u001b[0margs\u001b[0m\u001b[0;34m,\u001b[0m \u001b[0;34m**\u001b[0m\u001b[0mkw\u001b[0m\u001b[0;34m)\u001b[0m\u001b[0;34m:\u001b[0m\u001b[0;34m\u001b[0m\u001b[0;34m\u001b[0m\u001b[0m\n\u001b[1;32m      5\u001b[0m         \u001b[0mtime_begin\u001b[0m \u001b[0;34m=\u001b[0m \u001b[0mtime\u001b[0m\u001b[0;34m.\u001b[0m\u001b[0mtime\u001b[0m\u001b[0;34m(\u001b[0m\u001b[0;34m)\u001b[0m\u001b[0;34m\u001b[0m\u001b[0;34m\u001b[0m\u001b[0m\n\u001b[0;32m----> 6\u001b[0;31m         \u001b[0mresult\u001b[0m \u001b[0;34m=\u001b[0m \u001b[0mmethod\u001b[0m\u001b[0;34m(\u001b[0m\u001b[0;34m*\u001b[0m\u001b[0margs\u001b[0m\u001b[0;34m,\u001b[0m \u001b[0;34m**\u001b[0m\u001b[0mkw\u001b[0m\u001b[0;34m)\u001b[0m\u001b[0;34m\u001b[0m\u001b[0;34m\u001b[0m\u001b[0m\n\u001b[0m\u001b[1;32m      7\u001b[0m         \u001b[0mtime_end\u001b[0m \u001b[0;34m=\u001b[0m \u001b[0mtime\u001b[0m\u001b[0;34m.\u001b[0m\u001b[0mtime\u001b[0m\u001b[0;34m(\u001b[0m\u001b[0;34m)\u001b[0m\u001b[0;34m\u001b[0m\u001b[0;34m\u001b[0m\u001b[0m\n\u001b[1;32m      8\u001b[0m         \u001b[0mms_elapsed\u001b[0m \u001b[0;34m=\u001b[0m \u001b[0;34m(\u001b[0m\u001b[0mtime_end\u001b[0m \u001b[0;34m-\u001b[0m \u001b[0mtime_begin\u001b[0m\u001b[0;34m)\u001b[0m \u001b[0;34m*\u001b[0m \u001b[0;36m1000\u001b[0m\u001b[0;34m\u001b[0m\u001b[0;34m\u001b[0m\u001b[0m\n",
            "\u001b[0;32m<ipython-input-88-ad8c41ce5865>\u001b[0m in \u001b[0;36mramificacion_y_poda\u001b[0;34m(costes)\u001b[0m\n\u001b[1;32m     39\u001b[0m \u001b[0;34m\u001b[0m\u001b[0m\n\u001b[1;32m     40\u001b[0m     \u001b[0;31m#Eliminamos el nodo ramificado\u001b[0m\u001b[0;34m\u001b[0m\u001b[0;34m\u001b[0m\u001b[0;34m\u001b[0m\u001b[0m\n\u001b[0;32m---> 41\u001b[0;31m     \u001b[0mnodos\u001b[0m \u001b[0;34m=\u001b[0m  \u001b[0;34m[\u001b[0m  \u001b[0mx\u001b[0m \u001b[0;32mfor\u001b[0m \u001b[0mx\u001b[0m \u001b[0;32min\u001b[0m \u001b[0mnodos\u001b[0m \u001b[0;32mif\u001b[0m \u001b[0mx\u001b[0m\u001b[0;34m[\u001b[0m\u001b[0;34m's'\u001b[0m\u001b[0;34m]\u001b[0m \u001b[0;34m!=\u001b[0m \u001b[0mnodo_prometedor\u001b[0m    \u001b[0;34m]\u001b[0m\u001b[0;34m\u001b[0m\u001b[0;34m\u001b[0m\u001b[0m\n\u001b[0m\u001b[1;32m     42\u001b[0m \u001b[0;34m\u001b[0m\u001b[0m\n\u001b[1;32m     43\u001b[0m   \u001b[0mprint\u001b[0m\u001b[0;34m(\u001b[0m\u001b[0;34m\"La solucion final es:\"\u001b[0m \u001b[0;34m,\u001b[0m\u001b[0mmejor_solucion\u001b[0m \u001b[0;34m,\u001b[0m \u001b[0;34m\" en \"\u001b[0m \u001b[0;34m,\u001b[0m \u001b[0miteracion\u001b[0m \u001b[0;34m,\u001b[0m \u001b[0;34m\" iteraciones\"\u001b[0m \u001b[0;34m,\u001b[0m \u001b[0;34m\" para dimension: \"\u001b[0m \u001b[0;34m,\u001b[0m\u001b[0mdimension\u001b[0m  \u001b[0;34m)\u001b[0m\u001b[0;34m\u001b[0m\u001b[0;34m\u001b[0m\u001b[0m\n",
            "\u001b[0;32m<ipython-input-88-ad8c41ce5865>\u001b[0m in \u001b[0;36m<listcomp>\u001b[0;34m(.0)\u001b[0m\n\u001b[1;32m     39\u001b[0m \u001b[0;34m\u001b[0m\u001b[0m\n\u001b[1;32m     40\u001b[0m     \u001b[0;31m#Eliminamos el nodo ramificado\u001b[0m\u001b[0;34m\u001b[0m\u001b[0;34m\u001b[0m\u001b[0;34m\u001b[0m\u001b[0m\n\u001b[0;32m---> 41\u001b[0;31m     \u001b[0mnodos\u001b[0m \u001b[0;34m=\u001b[0m  \u001b[0;34m[\u001b[0m  \u001b[0mx\u001b[0m \u001b[0;32mfor\u001b[0m \u001b[0mx\u001b[0m \u001b[0;32min\u001b[0m \u001b[0mnodos\u001b[0m \u001b[0;32mif\u001b[0m \u001b[0mx\u001b[0m\u001b[0;34m[\u001b[0m\u001b[0;34m's'\u001b[0m\u001b[0;34m]\u001b[0m \u001b[0;34m!=\u001b[0m \u001b[0mnodo_prometedor\u001b[0m    \u001b[0;34m]\u001b[0m\u001b[0;34m\u001b[0m\u001b[0;34m\u001b[0m\u001b[0m\n\u001b[0m\u001b[1;32m     42\u001b[0m \u001b[0;34m\u001b[0m\u001b[0m\n\u001b[1;32m     43\u001b[0m   \u001b[0mprint\u001b[0m\u001b[0;34m(\u001b[0m\u001b[0;34m\"La solucion final es:\"\u001b[0m \u001b[0;34m,\u001b[0m\u001b[0mmejor_solucion\u001b[0m \u001b[0;34m,\u001b[0m \u001b[0;34m\" en \"\u001b[0m \u001b[0;34m,\u001b[0m \u001b[0miteracion\u001b[0m \u001b[0;34m,\u001b[0m \u001b[0;34m\" iteraciones\"\u001b[0m \u001b[0;34m,\u001b[0m \u001b[0;34m\" para dimension: \"\u001b[0m \u001b[0;34m,\u001b[0m\u001b[0mdimension\u001b[0m  \u001b[0;34m)\u001b[0m\u001b[0;34m\u001b[0m\u001b[0;34m\u001b[0m\u001b[0m\n",
            "\u001b[0;31mKeyboardInterrupt\u001b[0m: "
          ]
        }
      ]
    },
    {
      "cell_type": "code",
      "metadata": {
        "id": "cMKOoPSoA8Zf",
        "colab_type": "code",
        "colab": {}
      },
      "source": [
        ""
      ],
      "execution_count": 0,
      "outputs": []
    }
  ]
}