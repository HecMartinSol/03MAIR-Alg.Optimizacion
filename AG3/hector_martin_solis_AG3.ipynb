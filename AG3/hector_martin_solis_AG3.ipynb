{
  "nbformat": 4,
  "nbformat_minor": 0,
  "metadata": {
    "colab": {
      "name": "hector-martin-solis-AG3.ipynb",
      "provenance": [],
      "collapsed_sections": [],
      "authorship_tag": "ABX9TyML7eHyk8IcmvOeMMFtwmrW",
      "include_colab_link": true
    },
    "kernelspec": {
      "name": "python3",
      "display_name": "Python 3"
    }
  },
  "cells": [
    {
      "cell_type": "markdown",
      "metadata": {
        "id": "view-in-github",
        "colab_type": "text"
      },
      "source": [
        "<a href=\"https://colab.research.google.com/github/HecMartinSol/03MAIR-Alg.Optimizacion/blob/master/AG3/hector_martin_solis_AG3.ipynb\" target=\"_parent\"><img src=\"https://colab.research.google.com/assets/colab-badge.svg\" alt=\"Open In Colab\"/></a>"
      ]
    },
    {
      "cell_type": "markdown",
      "metadata": {
        "id": "MGa5eIMop3Bl",
        "colab_type": "text"
      },
      "source": [
        "AG3 - Actividad guiada\n",
        "\n",
        "Héctor Martín Solís\n",
        "\n",
        "https://colab.research.google.com/drive/1l1VtlepYeVYw2AoOCKWIcpETvrXTFnGJ"
      ]
    },
    {
      "cell_type": "code",
      "metadata": {
        "id": "vlbYLn0Kp69z",
        "colab_type": "code",
        "colab": {
          "base_uri": "https://localhost:8080/",
          "height": 34
        },
        "outputId": "d87e7383-08d9-408b-8705-65d6a493dda5"
      },
      "source": [
        "import urllib.request\n",
        "\n",
        "file = \"swiss42.tsp\"\n",
        "\n",
        "urllib.request.urlretrieve(\"http://elib.zib.de/pub/mp-testdata/tsp/tsplib/tsp/swiss42.tsp\", file)"
      ],
      "execution_count": 3,
      "outputs": [
        {
          "output_type": "execute_result",
          "data": {
            "text/plain": [
              "('swiss42.tsp', <http.client.HTTPMessage at 0x7f5a36c65ba8>)"
            ]
          },
          "metadata": {
            "tags": []
          },
          "execution_count": 3
        }
      ]
    },
    {
      "cell_type": "code",
      "metadata": {
        "id": "V17vf7iEsSz9",
        "colab_type": "code",
        "colab": {
          "base_uri": "https://localhost:8080/",
          "height": 85
        },
        "outputId": "ee7c88f2-5f59-45f5-b7ae-0264530db69e"
      },
      "source": [
        "!pip install tsplib95"
      ],
      "execution_count": 6,
      "outputs": [
        {
          "output_type": "stream",
          "text": [
            "Requirement already satisfied: tsplib95 in /usr/local/lib/python3.6/dist-packages (0.6.1)\n",
            "Requirement already satisfied: Click>=6.0 in /usr/local/lib/python3.6/dist-packages (from tsplib95) (7.0)\n",
            "Requirement already satisfied: networkx~=2.1 in /usr/local/lib/python3.6/dist-packages (from tsplib95) (2.4)\n",
            "Requirement already satisfied: decorator>=4.3.0 in /usr/local/lib/python3.6/dist-packages (from networkx~=2.1->tsplib95) (4.4.1)\n"
          ],
          "name": "stdout"
        }
      ]
    },
    {
      "cell_type": "code",
      "metadata": {
        "id": "LhHszlINsLTP",
        "colab_type": "code",
        "colab": {}
      },
      "source": [
        "import tsplib95\n",
        "import random\n",
        "import math"
      ],
      "execution_count": 0,
      "outputs": []
    },
    {
      "cell_type": "code",
      "metadata": {
        "id": "Vqs7N_uQsZs9",
        "colab_type": "code",
        "colab": {}
      },
      "source": [
        "problem = tsplib95.load_problem(file)"
      ],
      "execution_count": 0,
      "outputs": []
    },
    {
      "cell_type": "code",
      "metadata": {
        "id": "_fhcfhm_sdq9",
        "colab_type": "code",
        "colab": {}
      },
      "source": [
        "Nodos = list(problem.get_nodes())\n",
        "Aristas = list(problem.get_edges())"
      ],
      "execution_count": 0,
      "outputs": []
    },
    {
      "cell_type": "code",
      "metadata": {
        "id": "UMK2TT-Msilt",
        "colab_type": "code",
        "colab": {}
      },
      "source": [
        "#Se genera una solucion aleatoria con comienzo en en el nodo 0\n",
        "def crear_solucion(Nodos): \n",
        "  solucion = [0]\n",
        "  for i in range(len(Nodos)-1):\n",
        "    solucion = solucion + [random.choice(list(set(Nodos) - set({0}) - set(solucion)))]\n",
        "  return solucion"
      ],
      "execution_count": 0,
      "outputs": []
    },
    {
      "cell_type": "code",
      "metadata": {
        "id": "VFDUqiRTuIM3",
        "colab_type": "code",
        "colab": {
          "base_uri": "https://localhost:8080/",
          "height": 731
        },
        "outputId": "c2e2e677-ca78-412f-d3cd-2dcf37ec248b"
      },
      "source": [
        "crear_solucion(Nodos)"
      ],
      "execution_count": 21,
      "outputs": [
        {
          "output_type": "execute_result",
          "data": {
            "text/plain": [
              "[0,\n",
              " 31,\n",
              " 20,\n",
              " 35,\n",
              " 17,\n",
              " 38,\n",
              " 6,\n",
              " 3,\n",
              " 30,\n",
              " 2,\n",
              " 29,\n",
              " 33,\n",
              " 40,\n",
              " 25,\n",
              " 10,\n",
              " 23,\n",
              " 8,\n",
              " 41,\n",
              " 12,\n",
              " 4,\n",
              " 24,\n",
              " 11,\n",
              " 21,\n",
              " 22,\n",
              " 1,\n",
              " 5,\n",
              " 16,\n",
              " 37,\n",
              " 15,\n",
              " 28,\n",
              " 27,\n",
              " 32,\n",
              " 39,\n",
              " 18,\n",
              " 13,\n",
              " 36,\n",
              " 14,\n",
              " 26,\n",
              " 9,\n",
              " 7,\n",
              " 34,\n",
              " 19]"
            ]
          },
          "metadata": {
            "tags": []
          },
          "execution_count": 21
        }
      ]
    },
    {
      "cell_type": "code",
      "metadata": {
        "id": "blJfl2zluV6T",
        "colab_type": "code",
        "colab": {}
      },
      "source": [
        "#Devuelve la distancia entre dos nodos\n",
        "def distancia(a,b, problem):\n",
        "  return problem.wfunc(a,b)"
      ],
      "execution_count": 0,
      "outputs": []
    },
    {
      "cell_type": "code",
      "metadata": {
        "id": "3MSbLWHxunmE",
        "colab_type": "code",
        "colab": {
          "base_uri": "https://localhost:8080/",
          "height": 34
        },
        "outputId": "f131b27c-8585-408c-9fee-9bb7e6145d5e"
      },
      "source": [
        "distancia(1, 2, problem)"
      ],
      "execution_count": 25,
      "outputs": [
        {
          "output_type": "execute_result",
          "data": {
            "text/plain": [
              "34"
            ]
          },
          "metadata": {
            "tags": []
          },
          "execution_count": 25
        }
      ]
    },
    {
      "cell_type": "code",
      "metadata": {
        "id": "Cj1qXDxdu3cH",
        "colab_type": "code",
        "colab": {}
      },
      "source": [
        "#Devuelve la distancia total de una trayectoria\n",
        "def distancia_total(solucion, problem):\n",
        "  distancia_total = 0\n",
        "  for i in range(len(solucion)-1):\n",
        "    distancia_total += distancia(solucion[i] ,solucion[i+1] ,  problem)\n",
        "  return distancia_total + distancia(solucion[len(solucion)-1] ,solucion[0], problem)"
      ],
      "execution_count": 0,
      "outputs": []
    },
    {
      "cell_type": "code",
      "metadata": {
        "id": "OplJEyTGu6nO",
        "colab_type": "code",
        "colab": {}
      },
      "source": [
        "def busqueda_aleatoria(problem, N):\n",
        "  mejor_solucion = crear_solucion(Nodos)\n",
        "  mejor_valor = distancia_total(mejor_solucion, problem)\n",
        "  for i in range(N):\n",
        "    solucion = crear_solucion(Nodos)\n",
        "    valor = distancia_total(solucion, problem)\n",
        "    if valor < mejor_valor:\n",
        "      mejor_solucion = solucion\n",
        "      mejor_valor = valor\n",
        "    \n",
        "  print(\"la mejor solucion es\", mejor_valor, mejor_solucion)\n"
      ],
      "execution_count": 0,
      "outputs": []
    },
    {
      "cell_type": "code",
      "metadata": {
        "id": "Xo9snNT2wuWH",
        "colab_type": "code",
        "colab": {
          "base_uri": "https://localhost:8080/",
          "height": 34
        },
        "outputId": "65786449-d632-43c0-d928-2d0ee4d5e3d7"
      },
      "source": [
        "busqueda_aleatoria(problem,1000)"
      ],
      "execution_count": 38,
      "outputs": [
        {
          "output_type": "stream",
          "text": [
            "la mejor solucion es 3567 [0, 41, 10, 19, 27, 3, 38, 12, 23, 9, 32, 39, 8, 25, 18, 4, 16, 37, 26, 28, 6, 5, 2, 11, 22, 40, 24, 21, 36, 17, 1, 15, 14, 7, 29, 31, 33, 35, 20, 13, 30, 34]\n"
          ],
          "name": "stdout"
        }
      ]
    },
    {
      "cell_type": "code",
      "metadata": {
        "id": "NP3cYhxdw1RV",
        "colab_type": "code",
        "colab": {
          "base_uri": "https://localhost:8080/",
          "height": 34
        },
        "outputId": "56880e68-a5a5-46e0-d6d0-c87a6f18ab37"
      },
      "source": [
        "def genera_vecina(solucion):\n",
        "  #Generador de soluciones vecinas: 2-opt (intercambiar 2 nodos) Si hay N nodos se generan (N-1)x(N-2)/2 soluciones\n",
        "  #print(solucion)\n",
        "  mejor_solucion = []\n",
        "  mejor_distancia = 10e100\n",
        "  for i in range(1,len(solucion)-1):\n",
        "    for j in range(i+1, len(solucion)):\n",
        "      vecina = solucion[:i] + [solucion[j]] + solucion[i+1:j] + [solucion[i]] + solucion[j+1:] \n",
        "      distancia_vecina = distancia_total(vecina, problem)\n",
        "      if distancia_vecina <= mejor_distancia:\n",
        "        mejor_distancia = distancia_vecina\n",
        "        mejor_solucion = vecina\n",
        "  return mejor_solucion\n",
        "      \n",
        "solucion = crear_solucion(Nodos)\n",
        "mejor_solucion = genera_vecina(solucion)\n",
        "\n",
        "print(mejor_solucion)"
      ],
      "execution_count": 54,
      "outputs": [
        {
          "output_type": "stream",
          "text": [
            "[0, 29, 16, 1, 15, 18, 11, 6, 33, 13, 5, 23, 7, 3, 4, 32, 28, 25, 9, 19, 37, 10, 34, 20, 26, 8, 14, 27, 40, 39, 38, 24, 12, 30, 35, 36, 31, 2, 17, 41, 22, 21]\n"
          ],
          "name": "stdout"
        }
      ]
    },
    {
      "cell_type": "code",
      "metadata": {
        "id": "Ncz1lS6VzhGN",
        "colab_type": "code",
        "colab": {}
      },
      "source": [
        "#####################################################################\n",
        "def busqueda_local(problem, N):\n",
        "  #problem = datos del problema\n",
        "  #N = numero de iteraciones\n",
        "  \n",
        "  mejor_solucion = []\n",
        "  mejor_distancia = 10e100\n",
        "  \n",
        "  solucion_referencia = crear_solucion(Nodos)\n",
        "  \n",
        "  for i in range(N):\n",
        "    vecina = genera_vecina(solucion_referencia)\n",
        "    distancia_vecina = distancia_total(vecina, problem)\n",
        "    if distancia_vecina <= mejor_distancia:\n",
        "      mejor_solucion = vecina\n",
        "      mejor_distancia = distancia_vecina\n",
        "        \n",
        "    solucion_referencia = vecina\n",
        "  \n",
        "  print(\"La mejor solución encontrada es \" , mejor_distancia , mejor_solucion)"
      ],
      "execution_count": 0,
      "outputs": []
    },
    {
      "cell_type": "code",
      "metadata": {
        "id": "_xE9SH7D0WEz",
        "colab_type": "code",
        "colab": {
          "base_uri": "https://localhost:8080/",
          "height": 34
        },
        "outputId": "ad2c2fc3-0c1d-4e44-dec0-764c1fcdd419"
      },
      "source": [
        "busqueda_local(problem, 500)"
      ],
      "execution_count": 62,
      "outputs": [
        {
          "output_type": "stream",
          "text": [
            "La mejor solución encontrada es  1667 [0, 20, 33, 34, 32, 4, 6, 26, 10, 25, 41, 40, 24, 21, 39, 9, 23, 8, 22, 38, 30, 29, 28, 2, 27, 3, 1, 31, 35, 36, 17, 5, 18, 12, 11, 13, 19, 14, 16, 15, 37, 7]\n"
          ],
          "name": "stdout"
        }
      ]
    },
    {
      "cell_type": "code",
      "metadata": {
        "id": "-14zguMy04V3",
        "colab_type": "code",
        "colab": {}
      },
      "source": [
        "def genera_vecina_aleatorio(solucion):\n",
        "  #Generador de 1 solucion vecina 2-opt (intercambiar 2 nodos)\n",
        "  #Se puede mejorar haciendo que la elección no se uniforme sino entre las que estén más proximas\n",
        "  i = random.choice(range(1, len(solucion)) )\n",
        "  j = random.choice(list(set(range(1, len(solucion))) - {i}))\n",
        "  if j<i:\n",
        "    i,j=j,i\n",
        "  vecina = list(solucion[:i] + [solucion[j]] + solucion[i+1:j] + [solucion[i]] + solucion[j+1:])\n",
        "  return vecina"
      ],
      "execution_count": 0,
      "outputs": []
    },
    {
      "cell_type": "code",
      "metadata": {
        "id": "TAakkAOD5qlz",
        "colab_type": "code",
        "colab": {
          "base_uri": "https://localhost:8080/",
          "height": 51
        },
        "outputId": "2ab66ee7-a00e-4555-e052-7ad90f6cc2b7"
      },
      "source": [
        "solucion = crear_solucion(Nodos)\n",
        "mejor_solucion = genera_vecina(solucion)\n",
        "print(solucion)\n",
        "print(mejor_solucion)"
      ],
      "execution_count": 66,
      "outputs": [
        {
          "output_type": "stream",
          "text": [
            "[0, 19, 7, 17, 9, 3, 34, 6, 30, 5, 33, 8, 27, 36, 15, 37, 31, 28, 12, 10, 39, 13, 20, 38, 29, 11, 25, 41, 40, 35, 14, 1, 26, 24, 2, 4, 16, 23, 18, 21, 22, 32]\n",
            "[0, 19, 7, 17, 9, 3, 34, 6, 30, 5, 33, 8, 27, 36, 15, 37, 31, 28, 12, 10, 39, 13, 20, 38, 29, 11, 25, 41, 40, 35, 14, 1, 26, 18, 2, 4, 16, 23, 24, 21, 22, 32]\n"
          ],
          "name": "stdout"
        }
      ]
    },
    {
      "cell_type": "code",
      "metadata": {
        "id": "aSYGdhxF6-pQ",
        "colab_type": "code",
        "colab": {}
      },
      "source": [
        "#Funcion de probabilidad para determinar si se cambia \n",
        "#    a una solución peor respecto a la de referencia(exponencial)\n",
        "def probabilidad(T,d):\n",
        "  if random.random() <= math.exp(-1*d / T)   :\n",
        "    return True\n",
        "  else:\n",
        "    return False\n",
        "\n",
        "\n",
        "def bajar_temperatura(T):\n",
        "  return T*.9999"
      ],
      "execution_count": 0,
      "outputs": []
    },
    {
      "cell_type": "code",
      "metadata": {
        "id": "Oy2rsJ867qTT",
        "colab_type": "code",
        "colab": {
          "base_uri": "https://localhost:8080/",
          "height": 1000
        },
        "outputId": "fad813f3-4f99-4feb-8e06-fdb54828cacf"
      },
      "source": [
        "#####################################################################\n",
        "def recocido_simulado(problem, TEMPERATURA=1000):\n",
        "  #problem = datos del problema\n",
        "\n",
        "  solucion_referencia = crear_solucion(Nodos)\n",
        "  distancia_referencia = distancia_total(solucion_referencia, problem)\n",
        "  \n",
        "  mejor_solucion = []\n",
        "  mejor_distancia = 10e100\n",
        "\n",
        "  while TEMPERATURA > 1:\n",
        "    #Genera una solución vecina(aleatoria)\n",
        "    vecina = genera_vecina_aleatorio(solucion_referencia) \n",
        "    \n",
        "    #Calcula su valor(distancia)\n",
        "    distancia_vecina = distancia_total(vecina, problem)\n",
        "    \n",
        "    #Si es la mejor solución de todas se guarda\n",
        "    if distancia_vecina < mejor_distancia:\n",
        "      mejor_solucion = vecina\n",
        "      mejor_distancia = distancia_vecina\n",
        "      print('\\t****Encontrada mejor solucion:', mejor_distancia , mejor_solucion, '\\n')\n",
        "    \n",
        "    #Si la nueva vecina es mejor se cambia y si es peor se cambia según \n",
        "    # una probabilidad dependiente de T y de |distancia_referencia - distancia_vecina|\n",
        "    p = probabilidad(TEMPERATURA, abs(distancia_referencia - distancia_vecina) )\n",
        "    if distancia_vecina < distancia_referencia or p :\n",
        "      solucion_referencia = vecina\n",
        "      distancia_referencia = distancia_vecina\n",
        "    \n",
        "    TEMPERATURA = bajar_temperatura(TEMPERATURA)\n",
        "\n",
        "  print(\"La mejor solución encontrada es :\" , mejor_distancia, mejor_solucion  )\n",
        "  return mejor_solucion\n",
        "\n",
        "sol = recocido_simulado(problem, TEMPERATURA=100000)"
      ],
      "execution_count": 73,
      "outputs": [
        {
          "output_type": "stream",
          "text": [
            "\t****Encontrada mejor solucion: 4530 [0, 24, 20, 40, 41, 6, 2, 27, 17, 7, 5, 37, 25, 19, 13, 18, 39, 32, 30, 16, 4, 12, 35, 21, 10, 14, 36, 15, 23, 11, 28, 26, 3, 29, 22, 33, 1, 9, 38, 34, 31, 8] \n",
            "\n",
            "\t****Encontrada mejor solucion: 4524 [0, 22, 29, 8, 3, 6, 26, 27, 14, 7, 5, 37, 25, 4, 40, 21, 2, 32, 15, 16, 38, 12, 28, 34, 30, 18, 36, 11, 23, 13, 39, 41, 10, 20, 24, 33, 1, 17, 35, 9, 31, 19] \n",
            "\n",
            "\t****Encontrada mejor solucion: 4463 [0, 5, 29, 8, 3, 18, 40, 33, 10, 39, 22, 19, 25, 16, 4, 21, 34, 32, 15, 28, 38, 31, 35, 2, 30, 27, 7, 11, 23, 13, 37, 36, 14, 20, 12, 6, 1, 17, 41, 9, 24, 26] \n",
            "\n",
            "\t****Encontrada mejor solucion: 4397 [0, 30, 5, 37, 21, 39, 9, 16, 22, 4, 29, 31, 36, 19, 1, 32, 10, 17, 20, 24, 41, 13, 15, 7, 33, 26, 14, 2, 27, 11, 25, 23, 6, 12, 8, 40, 3, 18, 34, 28, 35, 38] \n",
            "\n",
            "\t****Encontrada mejor solucion: 4352 [0, 30, 5, 37, 21, 39, 9, 16, 22, 8, 29, 31, 36, 19, 1, 32, 10, 17, 20, 24, 41, 13, 15, 7, 33, 26, 14, 2, 27, 11, 25, 23, 6, 12, 4, 40, 3, 18, 35, 28, 34, 38] \n",
            "\n",
            "\t****Encontrada mejor solucion: 4164 [0, 18, 25, 10, 12, 26, 2, 17, 19, 38, 8, 11, 37, 3, 1, 29, 30, 21, 9, 34, 39, 24, 5, 22, 23, 6, 32, 35, 31, 15, 41, 4, 33, 27, 20, 36, 13, 16, 40, 28, 14, 7] \n",
            "\n",
            "\t****Encontrada mejor solucion: 4163 [0, 5, 33, 3, 19, 31, 17, 36, 38, 28, 15, 9, 16, 1, 14, 37, 2, 41, 11, 6, 18, 35, 32, 26, 34, 23, 24, 39, 7, 40, 22, 30, 29, 12, 13, 4, 20, 21, 8, 25, 10, 27] \n",
            "\n",
            "\t****Encontrada mejor solucion: 4142 [0, 1, 38, 11, 5, 35, 17, 18, 27, 39, 2, 29, 22, 7, 32, 31, 4, 3, 25, 28, 26, 41, 33, 24, 19, 15, 16, 37, 23, 30, 36, 20, 6, 34, 8, 40, 21, 9, 10, 12, 14, 13] \n",
            "\n",
            "\t****Encontrada mejor solucion: 4093 [0, 29, 5, 21, 14, 36, 18, 40, 23, 8, 4, 39, 25, 41, 10, 9, 17, 27, 3, 28, 37, 16, 15, 26, 34, 24, 2, 1, 30, 12, 7, 31, 35, 6, 32, 22, 38, 11, 33, 20, 19, 13] \n",
            "\n",
            "\t****Encontrada mejor solucion: 4041 [0, 17, 19, 6, 5, 31, 38, 4, 30, 28, 11, 21, 25, 32, 34, 26, 7, 23, 29, 24, 22, 1, 14, 13, 16, 33, 27, 2, 15, 36, 20, 12, 10, 9, 39, 40, 18, 3, 37, 41, 8, 35] \n",
            "\n",
            "\t****Encontrada mejor solucion: 4040 [0, 14, 17, 36, 35, 37, 4, 38, 29, 25, 18, 23, 24, 8, 19, 16, 33, 39, 9, 20, 26, 30, 41, 10, 6, 5, 13, 12, 31, 11, 1, 21, 2, 3, 22, 15, 7, 34, 28, 27, 40, 32] \n",
            "\n",
            "\t****Encontrada mejor solucion: 4001 [0, 38, 34, 20, 15, 2, 1, 33, 35, 3, 4, 27, 29, 5, 26, 9, 36, 22, 32, 14, 13, 16, 18, 6, 8, 30, 24, 25, 11, 31, 37, 19, 28, 40, 10, 41, 17, 21, 39, 23, 12, 7] \n",
            "\n",
            "\t****Encontrada mejor solucion: 3993 [0, 27, 34, 33, 2, 12, 23, 31, 10, 39, 18, 6, 8, 41, 29, 22, 7, 35, 17, 25, 30, 24, 21, 32, 28, 38, 20, 26, 11, 5, 16, 19, 1, 15, 14, 13, 9, 4, 37, 36, 40, 3] \n",
            "\n",
            "\t****Encontrada mejor solucion: 3986 [0, 27, 25, 39, 10, 11, 38, 17, 14, 32, 26, 33, 37, 34, 20, 35, 28, 24, 21, 30, 40, 41, 12, 31, 7, 16, 1, 19, 5, 18, 13, 22, 36, 6, 15, 3, 2, 8, 29, 9, 4, 23] \n",
            "\n",
            "\t****Encontrada mejor solucion: 3909 [0, 27, 25, 39, 10, 11, 38, 17, 14, 32, 26, 3, 37, 34, 20, 35, 28, 24, 21, 30, 40, 41, 22, 31, 7, 16, 1, 19, 5, 18, 13, 12, 36, 6, 15, 33, 2, 8, 29, 9, 4, 23] \n",
            "\n",
            "\t****Encontrada mejor solucion: 3829 [0, 27, 25, 39, 10, 11, 38, 17, 14, 32, 26, 3, 37, 34, 20, 35, 28, 24, 21, 30, 40, 41, 22, 31, 7, 16, 1, 19, 5, 18, 13, 15, 36, 6, 12, 33, 2, 8, 29, 9, 4, 23] \n",
            "\n",
            "\t****Encontrada mejor solucion: 3810 [0, 12, 41, 8, 24, 21, 20, 17, 19, 31, 34, 38, 22, 15, 2, 6, 26, 5, 1, 37, 16, 10, 3, 30, 29, 9, 18, 39, 40, 28, 27, 23, 4, 11, 32, 13, 25, 36, 14, 35, 7, 33] \n",
            "\n",
            "\t****Encontrada mejor solucion: 3762 [0, 38, 29, 24, 18, 1, 19, 6, 28, 9, 40, 10, 8, 15, 16, 20, 32, 30, 21, 35, 33, 12, 25, 11, 41, 27, 22, 39, 3, 7, 37, 26, 5, 4, 17, 31, 36, 34, 14, 2, 13, 23] \n",
            "\n",
            "\t****Encontrada mejor solucion: 3741 [0, 15, 26, 29, 18, 35, 5, 3, 11, 22, 30, 6, 34, 36, 37, 2, 9, 39, 40, 27, 31, 17, 16, 32, 28, 21, 24, 12, 8, 4, 1, 19, 14, 13, 7, 41, 38, 33, 20, 23, 10, 25] \n",
            "\n",
            "\t****Encontrada mejor solucion: 3739 [0, 23, 40, 39, 22, 13, 15, 30, 7, 20, 34, 24, 21, 5, 4, 38, 27, 28, 10, 25, 41, 16, 14, 31, 19, 2, 12, 8, 3, 29, 26, 11, 32, 35, 6, 18, 1, 9, 33, 17, 36, 37] \n",
            "\n",
            "\t****Encontrada mejor solucion: 3493 [0, 29, 35, 7, 30, 28, 37, 34, 33, 38, 17, 27, 26, 9, 22, 32, 10, 12, 15, 18, 16, 14, 13, 5, 25, 11, 40, 24, 8, 39, 21, 41, 20, 31, 36, 1, 19, 23, 3, 2, 4, 6] \n",
            "\n",
            "\t****Encontrada mejor solucion: 3439 [0, 19, 12, 5, 1, 26, 10, 11, 6, 18, 25, 23, 20, 37, 31, 36, 35, 15, 14, 29, 28, 34, 33, 3, 24, 21, 41, 30, 40, 16, 13, 7, 2, 27, 38, 39, 8, 9, 32, 17, 4, 22] \n",
            "\n",
            "\t****Encontrada mejor solucion: 3434 [0, 19, 12, 5, 1, 26, 10, 11, 6, 18, 25, 23, 20, 37, 31, 36, 35, 15, 14, 29, 32, 34, 33, 3, 24, 21, 41, 30, 40, 7, 13, 16, 2, 27, 38, 39, 8, 9, 28, 17, 4, 22] \n",
            "\n",
            "\t****Encontrada mejor solucion: 3420 [0, 19, 12, 5, 1, 26, 10, 11, 6, 18, 25, 23, 20, 37, 31, 36, 35, 15, 14, 29, 33, 34, 32, 3, 24, 21, 41, 30, 40, 7, 13, 16, 2, 27, 38, 39, 8, 9, 28, 17, 4, 22] \n",
            "\n",
            "\t****Encontrada mejor solucion: 3370 [0, 4, 29, 9, 41, 39, 12, 7, 32, 30, 36, 17, 31, 35, 34, 40, 10, 2, 22, 27, 33, 20, 3, 24, 21, 8, 23, 16, 15, 14, 5, 18, 13, 26, 28, 11, 25, 6, 1, 19, 37, 38] \n",
            "\n",
            "\t****Encontrada mejor solucion: 3290 [0, 11, 29, 41, 23, 9, 40, 21, 8, 25, 22, 38, 26, 3, 33, 34, 10, 1, 27, 18, 17, 7, 31, 28, 6, 30, 5, 19, 13, 4, 37, 14, 15, 2, 12, 16, 36, 35, 32, 24, 39, 20] \n",
            "\n",
            "\t****Encontrada mejor solucion: 3260 [0, 2, 8, 4, 5, 25, 19, 3, 32, 9, 39, 28, 7, 12, 10, 14, 16, 37, 17, 30, 6, 36, 35, 29, 22, 38, 24, 40, 21, 11, 18, 13, 26, 31, 33, 20, 27, 15, 34, 41, 23, 1] \n",
            "\n",
            "\t****Encontrada mejor solucion: 3210 [0, 2, 8, 4, 5, 19, 25, 3, 32, 1, 39, 28, 7, 12, 10, 14, 16, 37, 17, 30, 6, 36, 35, 29, 22, 38, 24, 40, 21, 11, 18, 13, 26, 31, 33, 20, 15, 27, 9, 41, 23, 34] \n",
            "\n",
            "\t****Encontrada mejor solucion: 3133 [0, 27, 20, 24, 39, 40, 9, 38, 6, 4, 17, 16, 12, 1, 37, 14, 15, 5, 7, 13, 19, 36, 35, 31, 28, 2, 22, 18, 11, 10, 23, 21, 41, 26, 32, 33, 34, 29, 30, 25, 3, 8] \n",
            "\n",
            "\t****Encontrada mejor solucion: 3065 [0, 8, 21, 24, 39, 38, 9, 40, 3, 20, 17, 16, 12, 1, 37, 14, 15, 5, 7, 13, 19, 36, 35, 31, 28, 2, 22, 18, 41, 10, 23, 4, 11, 26, 32, 33, 34, 29, 30, 25, 6, 27] \n",
            "\n",
            "\t****Encontrada mejor solucion: 3022 [0, 15, 14, 16, 13, 28, 35, 36, 20, 33, 34, 32, 6, 5, 24, 21, 8, 4, 40, 22, 12, 25, 41, 23, 39, 10, 30, 1, 9, 29, 3, 7, 26, 19, 18, 11, 27, 2, 38, 37, 31, 17] \n",
            "\n",
            "\t****Encontrada mejor solucion: 3020 [0, 15, 14, 16, 13, 10, 35, 36, 20, 33, 34, 32, 6, 5, 29, 3, 11, 4, 7, 28, 12, 25, 41, 23, 39, 22, 30, 8, 9, 24, 21, 19, 26, 40, 2, 1, 27, 18, 38, 37, 17, 31] \n",
            "\n",
            "\t****Encontrada mejor solucion: 2890 [0, 15, 14, 16, 13, 10, 35, 36, 20, 33, 34, 32, 6, 38, 29, 3, 11, 4, 7, 28, 12, 25, 41, 23, 39, 22, 30, 8, 9, 24, 21, 19, 26, 40, 2, 1, 27, 18, 5, 37, 17, 31] \n",
            "\n",
            "\t****Encontrada mejor solucion: 2888 [0, 15, 14, 16, 13, 26, 35, 36, 20, 33, 32, 34, 6, 38, 29, 3, 11, 4, 7, 28, 12, 25, 41, 23, 39, 22, 30, 8, 9, 24, 21, 19, 10, 40, 2, 1, 27, 18, 5, 37, 17, 31] \n",
            "\n",
            "\t****Encontrada mejor solucion: 2878 [0, 2, 37, 31, 35, 34, 20, 33, 32, 8, 41, 9, 24, 39, 38, 23, 12, 10, 26, 15, 16, 6, 3, 17, 5, 13, 14, 19, 25, 11, 4, 36, 18, 7, 1, 28, 29, 27, 30, 22, 21, 40] \n",
            "\n",
            "\t****Encontrada mejor solucion: 2793 [0, 7, 37, 31, 35, 34, 20, 33, 32, 8, 41, 9, 24, 39, 38, 23, 12, 10, 26, 15, 16, 6, 3, 17, 5, 13, 14, 19, 25, 11, 4, 36, 18, 2, 1, 28, 29, 27, 30, 22, 21, 40] \n",
            "\n",
            "\t****Encontrada mejor solucion: 2792 [0, 7, 37, 35, 17, 34, 20, 33, 36, 8, 41, 9, 24, 39, 21, 23, 12, 10, 26, 15, 16, 6, 3, 31, 5, 13, 14, 19, 25, 11, 4, 29, 18, 2, 1, 28, 32, 27, 30, 22, 38, 40] \n",
            "\n",
            "\t****Encontrada mejor solucion: 2723 [0, 7, 37, 35, 17, 34, 20, 33, 36, 1, 41, 9, 23, 39, 21, 24, 40, 10, 29, 15, 14, 6, 3, 31, 5, 13, 16, 19, 25, 11, 4, 18, 26, 2, 8, 28, 32, 27, 30, 22, 38, 12] \n",
            "\n",
            "\t****Encontrada mejor solucion: 2702 [0, 7, 37, 35, 17, 34, 20, 33, 36, 1, 29, 9, 23, 39, 21, 24, 40, 10, 41, 15, 14, 6, 3, 31, 5, 13, 16, 19, 25, 11, 4, 18, 26, 2, 8, 28, 32, 27, 30, 22, 38, 12] \n",
            "\n",
            "\t****Encontrada mejor solucion: 2637 [0, 31, 3, 2, 27, 1, 6, 4, 16, 37, 15, 19, 13, 26, 17, 7, 14, 18, 11, 40, 24, 39, 30, 22, 8, 41, 25, 9, 23, 10, 5, 12, 29, 36, 35, 33, 34, 28, 32, 20, 38, 21] \n",
            "\n",
            "\t****Encontrada mejor solucion: 2610 [0, 28, 3, 4, 2, 30, 29, 19, 18, 6, 31, 16, 13, 14, 15, 17, 37, 27, 25, 41, 23, 21, 39, 22, 40, 8, 26, 12, 5, 10, 11, 1, 7, 36, 35, 33, 34, 38, 24, 9, 32, 20] \n",
            "\n",
            "\t****Encontrada mejor solucion: 2580 [0, 1, 8, 11, 2, 30, 28, 19, 13, 27, 31, 7, 17, 37, 15, 14, 16, 6, 25, 41, 23, 21, 39, 40, 22, 32, 3, 20, 5, 26, 10, 12, 18, 36, 35, 33, 34, 38, 24, 9, 29, 4] \n",
            "\n",
            "\t****Encontrada mejor solucion: 2563 [0, 1, 2, 11, 8, 3, 18, 19, 13, 28, 4, 7, 17, 37, 15, 14, 27, 12, 25, 41, 23, 22, 21, 40, 39, 32, 31, 20, 5, 26, 10, 6, 16, 36, 35, 33, 34, 38, 24, 9, 29, 30] \n",
            "\n",
            "\t****Encontrada mejor solucion: 2538 [0, 1, 2, 11, 25, 28, 18, 19, 13, 3, 4, 7, 17, 37, 15, 14, 27, 12, 8, 41, 23, 22, 21, 40, 39, 32, 31, 20, 5, 26, 10, 6, 16, 36, 35, 33, 34, 38, 24, 9, 29, 30] \n",
            "\n",
            "\t****Encontrada mejor solucion: 2493 [0, 1, 2, 11, 25, 28, 18, 19, 13, 3, 4, 7, 17, 37, 15, 14, 27, 12, 8, 41, 23, 22, 21, 40, 24, 32, 31, 20, 5, 26, 10, 6, 16, 36, 35, 33, 34, 38, 39, 9, 29, 30] \n",
            "\n",
            "\t****Encontrada mejor solucion: 2408 [0, 1, 2, 11, 25, 28, 27, 19, 13, 3, 4, 7, 17, 37, 15, 14, 18, 12, 8, 41, 23, 22, 21, 40, 24, 32, 31, 20, 5, 26, 10, 6, 16, 36, 35, 33, 34, 38, 39, 9, 29, 30] \n",
            "\n",
            "\t****Encontrada mejor solucion: 2399 [0, 27, 3, 39, 24, 40, 21, 41, 1, 4, 11, 12, 9, 23, 25, 10, 8, 22, 38, 28, 30, 29, 34, 33, 35, 14, 19, 18, 6, 15, 7, 37, 16, 17, 36, 31, 20, 2, 32, 26, 13, 5] \n",
            "\n",
            "\t****Encontrada mejor solucion: 2375 [0, 27, 3, 39, 24, 40, 21, 41, 1, 4, 11, 12, 25, 23, 9, 10, 8, 22, 38, 28, 30, 29, 34, 33, 35, 14, 19, 18, 6, 15, 7, 37, 16, 17, 36, 31, 20, 2, 32, 26, 13, 5] \n",
            "\n",
            "\t****Encontrada mejor solucion: 2369 [0, 27, 3, 39, 21, 40, 24, 41, 1, 26, 11, 12, 25, 23, 9, 10, 8, 22, 38, 28, 30, 29, 34, 33, 20, 14, 19, 18, 6, 15, 7, 37, 16, 17, 36, 31, 35, 2, 32, 4, 13, 5] \n",
            "\n",
            "\t****Encontrada mejor solucion: 2352 [0, 27, 3, 39, 21, 40, 24, 23, 1, 26, 11, 12, 25, 41, 9, 10, 8, 22, 38, 28, 30, 29, 34, 33, 20, 14, 19, 18, 6, 15, 7, 37, 16, 17, 36, 31, 35, 2, 32, 4, 13, 5] \n",
            "\n",
            "\t****Encontrada mejor solucion: 2338 [0, 27, 3, 39, 21, 40, 24, 23, 1, 26, 11, 12, 25, 41, 9, 10, 8, 22, 38, 28, 30, 29, 34, 33, 20, 14, 19, 18, 6, 16, 7, 37, 15, 17, 36, 31, 35, 2, 32, 4, 13, 5] \n",
            "\n",
            "\t****Encontrada mejor solucion: 2336 [0, 27, 3, 39, 21, 40, 24, 23, 1, 26, 11, 12, 25, 41, 10, 9, 8, 22, 38, 28, 30, 29, 34, 33, 20, 14, 19, 18, 6, 16, 7, 37, 15, 17, 36, 31, 35, 2, 32, 4, 13, 5] \n",
            "\n",
            "\t****Encontrada mejor solucion: 2296 [0, 4, 18, 41, 21, 24, 40, 11, 12, 25, 23, 10, 26, 8, 9, 39, 22, 38, 28, 29, 30, 2, 27, 6, 3, 34, 20, 1, 5, 13, 16, 7, 15, 14, 36, 35, 33, 37, 19, 17, 31, 32] \n",
            "\n",
            "\t****Encontrada mejor solucion: 2275 [0, 4, 10, 41, 21, 24, 40, 11, 12, 25, 23, 18, 26, 8, 9, 39, 22, 38, 28, 29, 30, 2, 27, 6, 3, 34, 20, 1, 5, 13, 16, 7, 15, 14, 36, 35, 33, 37, 19, 17, 31, 32] \n",
            "\n",
            "\t****Encontrada mejor solucion: 2261 [0, 4, 10, 41, 21, 24, 40, 11, 12, 25, 23, 18, 26, 8, 9, 39, 22, 38, 28, 29, 30, 2, 27, 6, 3, 34, 20, 1, 5, 13, 7, 16, 15, 14, 36, 35, 33, 37, 19, 17, 31, 32] \n",
            "\n",
            "\t****Encontrada mejor solucion: 2253 [0, 4, 10, 25, 21, 24, 40, 11, 12, 41, 23, 18, 26, 27, 9, 22, 39, 38, 30, 29, 28, 2, 6, 8, 33, 34, 3, 1, 5, 13, 7, 16, 19, 14, 15, 37, 17, 36, 35, 20, 31, 32] \n",
            "\n",
            "\t****Encontrada mejor solucion: 2218 [0, 4, 25, 10, 21, 24, 40, 11, 12, 41, 23, 8, 1, 27, 22, 9, 39, 38, 30, 29, 28, 2, 6, 3, 33, 34, 18, 26, 5, 13, 14, 16, 15, 7, 19, 37, 17, 36, 35, 20, 31, 32] \n",
            "\n",
            "\t****Encontrada mejor solucion: 2198 [0, 4, 25, 10, 21, 24, 40, 11, 12, 41, 23, 8, 1, 27, 9, 22, 39, 38, 30, 29, 28, 2, 6, 3, 33, 34, 18, 26, 5, 13, 14, 16, 15, 7, 19, 37, 17, 36, 35, 20, 31, 32] \n",
            "\n",
            "\t****Encontrada mejor solucion: 2191 [0, 13, 12, 11, 25, 24, 40, 41, 10, 23, 21, 8, 29, 34, 9, 22, 39, 38, 30, 27, 1, 2, 6, 4, 28, 3, 18, 26, 5, 19, 15, 14, 16, 37, 31, 7, 17, 35, 36, 33, 20, 32] \n",
            "\n",
            "\t****Encontrada mejor solucion: 2180 [0, 5, 12, 11, 25, 24, 40, 41, 10, 23, 21, 8, 34, 29, 9, 22, 39, 38, 30, 27, 6, 2, 1, 4, 28, 3, 18, 26, 13, 19, 15, 14, 16, 37, 31, 7, 17, 35, 36, 33, 20, 32] \n",
            "\n",
            "\t****Encontrada mejor solucion: 2154 [0, 5, 12, 11, 25, 24, 40, 41, 10, 23, 21, 8, 34, 29, 9, 22, 39, 38, 30, 27, 6, 1, 2, 4, 28, 3, 18, 26, 13, 19, 15, 14, 16, 37, 31, 7, 17, 35, 36, 33, 20, 32] \n",
            "\n",
            "\t****Encontrada mejor solucion: 2136 [0, 5, 12, 11, 25, 40, 24, 41, 10, 23, 21, 8, 34, 29, 9, 22, 39, 38, 30, 27, 6, 1, 2, 4, 28, 3, 18, 26, 13, 19, 16, 14, 15, 37, 31, 7, 17, 35, 36, 33, 20, 32] \n",
            "\n",
            "\t****Encontrada mejor solucion: 2048 [0, 5, 12, 11, 25, 40, 24, 21, 10, 23, 41, 8, 34, 29, 9, 22, 39, 38, 30, 27, 6, 1, 2, 4, 28, 3, 18, 26, 13, 19, 16, 14, 15, 37, 31, 7, 17, 35, 36, 33, 20, 32] \n",
            "\n",
            "\t****Encontrada mejor solucion: 2025 [0, 3, 12, 11, 25, 40, 24, 21, 10, 23, 41, 8, 34, 29, 9, 22, 39, 38, 30, 28, 6, 1, 2, 4, 27, 5, 18, 26, 13, 19, 16, 14, 15, 37, 31, 7, 17, 35, 36, 33, 20, 32] \n",
            "\n",
            "\t****Encontrada mejor solucion: 2016 [0, 3, 12, 11, 25, 40, 24, 21, 10, 23, 41, 8, 39, 29, 9, 22, 34, 38, 30, 28, 6, 1, 2, 4, 27, 5, 18, 26, 13, 19, 16, 14, 15, 37, 31, 7, 17, 35, 36, 33, 20, 32] \n",
            "\n",
            "\t****Encontrada mejor solucion: 1983 [0, 3, 12, 11, 25, 40, 24, 21, 10, 23, 41, 8, 39, 29, 9, 22, 34, 38, 30, 28, 6, 1, 2, 27, 4, 5, 18, 26, 13, 19, 16, 14, 15, 37, 31, 7, 17, 35, 36, 33, 20, 32] \n",
            "\n",
            "\t****Encontrada mejor solucion: 1949 [0, 3, 12, 11, 25, 40, 24, 21, 41, 23, 10, 8, 39, 29, 9, 22, 34, 38, 30, 28, 6, 1, 2, 27, 4, 5, 18, 26, 13, 19, 16, 14, 15, 37, 31, 7, 17, 35, 36, 33, 20, 32] \n",
            "\n",
            "\t****Encontrada mejor solucion: 1915 [0, 13, 14, 16, 15, 19, 5, 2, 28, 29, 41, 38, 30, 27, 3, 1, 26, 18, 12, 11, 25, 23, 9, 10, 8, 40, 24, 21, 39, 22, 32, 4, 6, 7, 37, 17, 31, 36, 35, 34, 33, 20] \n",
            "\n",
            "\t****Encontrada mejor solucion: 1903 [0, 13, 14, 16, 15, 19, 5, 2, 28, 29, 41, 38, 32, 27, 3, 1, 26, 18, 12, 11, 25, 23, 9, 10, 8, 40, 24, 21, 39, 22, 30, 4, 6, 7, 37, 17, 31, 36, 35, 34, 33, 20] \n",
            "\n",
            "\t****Encontrada mejor solucion: 1872 [0, 15, 14, 16, 13, 19, 5, 2, 28, 29, 41, 38, 32, 27, 3, 1, 26, 18, 12, 11, 25, 23, 9, 10, 8, 40, 24, 21, 39, 22, 30, 4, 6, 7, 37, 17, 31, 36, 35, 34, 33, 20] \n",
            "\n",
            "\t****Encontrada mejor solucion: 1815 [0, 15, 14, 16, 13, 19, 5, 2, 28, 10, 29, 38, 32, 27, 3, 1, 26, 18, 12, 11, 25, 41, 9, 23, 8, 40, 24, 21, 39, 22, 30, 4, 6, 7, 37, 17, 31, 36, 35, 34, 33, 20] \n",
            "\n",
            "\t****Encontrada mejor solucion: 1804 [0, 15, 14, 16, 13, 19, 5, 2, 28, 10, 29, 38, 32, 27, 3, 4, 26, 18, 12, 11, 25, 41, 9, 23, 8, 40, 24, 21, 39, 22, 30, 1, 6, 7, 37, 17, 31, 36, 35, 34, 33, 20] \n",
            "\n",
            "\t****Encontrada mejor solucion: 1784 [0, 1, 15, 14, 19, 5, 26, 27, 2, 30, 22, 38, 32, 28, 3, 4, 13, 18, 11, 12, 10, 25, 8, 41, 9, 23, 40, 24, 21, 39, 29, 6, 7, 16, 37, 17, 31, 36, 35, 33, 34, 20] \n",
            "\n",
            "\t****Encontrada mejor solucion: 1772 [0, 1, 15, 14, 19, 5, 26, 6, 2, 30, 22, 38, 32, 28, 3, 4, 13, 18, 11, 12, 10, 25, 8, 41, 9, 23, 40, 24, 21, 39, 29, 27, 7, 16, 37, 17, 31, 36, 35, 33, 34, 20] \n",
            "\n",
            "\t****Encontrada mejor solucion: 1765 [0, 7, 15, 14, 19, 5, 26, 6, 2, 30, 22, 38, 32, 28, 27, 3, 13, 18, 11, 12, 10, 25, 8, 41, 9, 23, 40, 24, 21, 39, 29, 4, 1, 16, 37, 17, 31, 36, 35, 33, 34, 20] \n",
            "\n",
            "\t****Encontrada mejor solucion: 1753 [0, 7, 15, 14, 19, 5, 26, 6, 2, 30, 22, 38, 32, 4, 27, 3, 13, 18, 12, 11, 10, 25, 8, 9, 41, 23, 40, 24, 21, 39, 29, 28, 1, 16, 37, 17, 31, 36, 35, 33, 34, 20] \n",
            "\n",
            "\t****Encontrada mejor solucion: 1730 [0, 7, 16, 14, 15, 13, 5, 1, 3, 27, 32, 38, 22, 30, 28, 6, 26, 18, 12, 11, 10, 25, 8, 9, 41, 23, 40, 24, 21, 39, 29, 2, 4, 19, 37, 17, 31, 36, 35, 34, 33, 20] \n",
            "\n",
            "\t****Encontrada mejor solucion: 1718 [0, 27, 2, 16, 14, 15, 13, 19, 26, 4, 30, 22, 38, 32, 1, 6, 5, 18, 12, 11, 25, 10, 8, 9, 41, 23, 40, 21, 24, 39, 29, 28, 3, 7, 37, 17, 31, 36, 35, 20, 33, 34] \n",
            "\n",
            "\t****Encontrada mejor solucion: 1689 [0, 27, 2, 16, 14, 15, 19, 13, 26, 4, 30, 22, 38, 32, 1, 6, 5, 18, 12, 11, 25, 10, 8, 9, 41, 23, 40, 21, 24, 39, 29, 28, 3, 7, 37, 17, 31, 36, 35, 20, 33, 34] \n",
            "\n",
            "\t****Encontrada mejor solucion: 1659 [0, 7, 37, 14, 16, 15, 13, 19, 26, 3, 30, 22, 38, 32, 1, 6, 5, 18, 12, 11, 25, 10, 8, 9, 23, 41, 40, 24, 21, 39, 29, 28, 27, 2, 4, 17, 31, 36, 35, 20, 33, 34] \n",
            "\n",
            "\t****Encontrada mejor solucion: 1655 [0, 7, 37, 14, 16, 15, 13, 19, 26, 2, 30, 22, 38, 32, 1, 6, 5, 18, 12, 11, 25, 10, 8, 9, 23, 41, 40, 24, 21, 39, 29, 28, 27, 3, 4, 17, 31, 36, 35, 20, 33, 34] \n",
            "\n",
            "\t****Encontrada mejor solucion: 1648 [0, 7, 37, 14, 16, 15, 13, 19, 26, 2, 30, 22, 38, 32, 4, 6, 5, 18, 12, 11, 25, 10, 8, 9, 23, 41, 40, 24, 21, 39, 29, 28, 27, 3, 1, 17, 31, 36, 35, 20, 33, 34] \n",
            "\n",
            "\t****Encontrada mejor solucion: 1643 [0, 7, 37, 14, 16, 15, 13, 19, 26, 28, 30, 22, 38, 32, 4, 6, 5, 18, 12, 11, 25, 10, 8, 9, 41, 23, 40, 24, 21, 39, 29, 2, 27, 3, 1, 17, 31, 36, 35, 20, 33, 34] \n",
            "\n",
            "\t****Encontrada mejor solucion: 1614 [0, 7, 37, 14, 16, 15, 19, 13, 26, 28, 30, 22, 38, 32, 4, 6, 5, 18, 12, 11, 25, 10, 8, 9, 41, 23, 40, 24, 21, 39, 29, 2, 27, 3, 1, 17, 31, 36, 35, 20, 33, 34] \n",
            "\n",
            "\t****Encontrada mejor solucion: 1613 [0, 7, 37, 16, 15, 14, 19, 13, 26, 28, 30, 22, 38, 32, 4, 6, 5, 18, 12, 11, 25, 10, 8, 9, 23, 41, 40, 24, 21, 39, 29, 2, 27, 3, 1, 17, 31, 36, 35, 20, 33, 34] \n",
            "\n",
            "\t****Encontrada mejor solucion: 1612 [0, 17, 37, 15, 14, 16, 19, 13, 5, 27, 28, 30, 29, 2, 1, 7, 26, 18, 12, 11, 25, 10, 8, 9, 41, 23, 40, 24, 21, 39, 22, 38, 32, 3, 4, 6, 31, 36, 35, 20, 33, 34] \n",
            "\n",
            "\t****Encontrada mejor solucion: 1585 [0, 7, 37, 15, 16, 14, 19, 13, 26, 27, 2, 29, 30, 32, 6, 1, 5, 18, 12, 11, 25, 10, 8, 9, 41, 23, 40, 24, 21, 39, 22, 38, 28, 3, 4, 31, 17, 36, 35, 20, 33, 34] \n",
            "\n",
            "\t****Encontrada mejor solucion: 1581 [0, 7, 37, 15, 16, 14, 19, 13, 5, 3, 2, 29, 30, 32, 6, 1, 26, 18, 12, 11, 25, 10, 8, 41, 9, 23, 40, 24, 21, 39, 22, 38, 28, 27, 4, 31, 17, 36, 35, 20, 33, 34] \n",
            "\n",
            "\t****Encontrada mejor solucion: 1573 [0, 7, 37, 15, 16, 14, 19, 13, 5, 3, 2, 28, 30, 32, 6, 1, 26, 18, 12, 11, 25, 10, 8, 41, 9, 23, 40, 24, 21, 39, 22, 38, 29, 27, 4, 17, 31, 36, 35, 20, 33, 34] \n",
            "\n",
            "\t****Encontrada mejor solucion: 1538 [0, 7, 37, 15, 16, 14, 19, 13, 5, 3, 2, 28, 30, 32, 1, 6, 26, 18, 12, 11, 25, 10, 8, 41, 9, 23, 40, 24, 21, 39, 22, 38, 29, 27, 4, 17, 31, 36, 35, 20, 33, 34] \n",
            "\n",
            "\t****Encontrada mejor solucion: 1523 [0, 7, 37, 15, 16, 14, 19, 13, 5, 4, 2, 28, 30, 32, 1, 6, 26, 18, 12, 11, 25, 10, 8, 41, 9, 23, 40, 24, 21, 39, 22, 38, 29, 27, 3, 17, 31, 36, 35, 20, 33, 34] \n",
            "\n",
            "\t****Encontrada mejor solucion: 1521 [0, 7, 37, 15, 16, 14, 19, 13, 5, 4, 2, 28, 30, 32, 1, 6, 26, 18, 12, 11, 25, 10, 41, 8, 9, 23, 40, 24, 21, 39, 22, 38, 29, 27, 3, 17, 31, 36, 35, 20, 33, 34] \n",
            "\n",
            "\t****Encontrada mejor solucion: 1519 [0, 7, 37, 15, 16, 14, 19, 13, 5, 4, 2, 28, 30, 32, 1, 6, 26, 18, 12, 11, 25, 10, 41, 8, 9, 23, 40, 24, 21, 39, 22, 38, 29, 27, 3, 31, 17, 36, 35, 20, 33, 34] \n",
            "\n",
            "\t****Encontrada mejor solucion: 1494 [0, 7, 37, 15, 16, 14, 19, 13, 26, 4, 2, 28, 27, 1, 3, 6, 5, 18, 12, 11, 25, 10, 8, 41, 23, 9, 24, 40, 21, 39, 22, 38, 29, 30, 32, 17, 31, 36, 35, 20, 33, 34] \n",
            "\n",
            "\t****Encontrada mejor solucion: 1491 [0, 7, 37, 15, 16, 14, 19, 13, 26, 1, 2, 28, 27, 4, 3, 6, 5, 18, 12, 11, 25, 10, 8, 41, 23, 9, 21, 40, 24, 39, 22, 38, 29, 30, 32, 17, 31, 36, 35, 33, 34, 20] \n",
            "\n",
            "\t****Encontrada mejor solucion: 1467 [0, 7, 37, 15, 16, 14, 19, 13, 5, 1, 2, 28, 27, 4, 3, 6, 26, 18, 12, 11, 25, 10, 8, 41, 23, 9, 21, 40, 24, 39, 22, 38, 29, 30, 32, 17, 31, 36, 35, 33, 34, 20] \n",
            "\n",
            "\t****Encontrada mejor solucion: 1465 [0, 7, 37, 15, 16, 14, 19, 13, 5, 1, 27, 28, 2, 4, 3, 6, 26, 18, 12, 11, 25, 10, 8, 41, 23, 9, 21, 40, 24, 39, 22, 38, 29, 30, 32, 17, 31, 36, 35, 33, 34, 20] \n",
            "\n",
            "\t****Encontrada mejor solucion: 1452 [0, 7, 37, 15, 16, 14, 19, 13, 5, 1, 27, 28, 2, 4, 3, 6, 26, 18, 12, 11, 25, 10, 8, 41, 23, 9, 21, 40, 24, 39, 22, 38, 29, 30, 32, 31, 17, 36, 35, 33, 34, 20] \n",
            "\n",
            "\t****Encontrada mejor solucion: 1447 [0, 7, 37, 15, 16, 14, 19, 13, 5, 3, 27, 28, 2, 4, 1, 6, 26, 18, 12, 11, 25, 10, 8, 41, 23, 9, 21, 40, 24, 39, 22, 38, 29, 30, 32, 31, 17, 36, 35, 33, 34, 20] \n",
            "\n",
            "\t****Encontrada mejor solucion: 1443 [0, 7, 37, 15, 14, 16, 19, 13, 5, 4, 27, 28, 2, 3, 1, 6, 26, 18, 12, 11, 25, 10, 8, 41, 23, 9, 24, 40, 21, 39, 22, 38, 29, 30, 32, 31, 17, 36, 35, 20, 33, 34] \n",
            "\n",
            "\t****Encontrada mejor solucion: 1438 [0, 7, 37, 15, 14, 16, 19, 13, 5, 4, 2, 27, 28, 3, 1, 6, 26, 18, 12, 11, 25, 10, 8, 41, 23, 9, 40, 24, 21, 39, 22, 38, 30, 29, 32, 31, 17, 36, 35, 20, 33, 34] \n",
            "\n",
            "\t****Encontrada mejor solucion: 1434 [0, 7, 37, 15, 14, 16, 19, 13, 5, 4, 2, 28, 27, 3, 1, 6, 26, 18, 12, 11, 25, 10, 8, 41, 23, 9, 40, 24, 21, 39, 22, 38, 30, 29, 32, 31, 17, 36, 35, 20, 33, 34] \n",
            "\n",
            "\t****Encontrada mejor solucion: 1430 [0, 7, 37, 15, 14, 16, 19, 13, 5, 4, 2, 28, 27, 3, 1, 6, 26, 18, 12, 11, 25, 10, 8, 41, 23, 9, 40, 24, 21, 39, 22, 38, 29, 30, 32, 31, 17, 36, 35, 20, 33, 34] \n",
            "\n",
            "\t****Encontrada mejor solucion: 1429 [0, 7, 37, 15, 16, 14, 19, 13, 5, 4, 3, 2, 28, 27, 1, 6, 26, 18, 12, 11, 25, 10, 8, 41, 23, 9, 40, 24, 21, 39, 22, 38, 29, 30, 32, 31, 17, 36, 35, 20, 33, 34] \n",
            "\n",
            "\t****Encontrada mejor solucion: 1428 [0, 7, 37, 15, 16, 14, 19, 13, 5, 1, 3, 2, 28, 27, 4, 6, 26, 18, 12, 11, 25, 10, 8, 41, 23, 9, 40, 24, 21, 39, 22, 38, 29, 30, 32, 31, 17, 36, 35, 20, 33, 34] \n",
            "\n",
            "\t****Encontrada mejor solucion: 1427 [0, 7, 37, 15, 16, 14, 19, 13, 5, 1, 3, 2, 28, 27, 4, 6, 26, 18, 12, 11, 25, 10, 8, 41, 23, 9, 21, 40, 24, 39, 22, 38, 29, 30, 32, 31, 17, 36, 35, 20, 33, 34] \n",
            "\n",
            "\t****Encontrada mejor solucion: 1426 [0, 7, 37, 15, 16, 14, 19, 13, 5, 1, 3, 27, 28, 2, 4, 6, 26, 18, 12, 11, 25, 10, 8, 41, 23, 9, 21, 40, 24, 39, 22, 38, 29, 30, 32, 31, 17, 36, 35, 20, 33, 34] \n",
            "\n",
            "\t****Encontrada mejor solucion: 1425 [0, 7, 37, 15, 16, 14, 19, 13, 5, 4, 2, 28, 27, 3, 1, 6, 26, 18, 12, 11, 25, 10, 8, 41, 23, 9, 21, 40, 24, 39, 22, 38, 29, 30, 32, 31, 17, 36, 35, 20, 33, 34] \n",
            "\n",
            "La mejor solución encontrada es : 1425 [0, 7, 37, 15, 16, 14, 19, 13, 5, 4, 2, 28, 27, 3, 1, 6, 26, 18, 12, 11, 25, 10, 8, 41, 23, 9, 21, 40, 24, 39, 22, 38, 29, 30, 32, 31, 17, 36, 35, 20, 33, 34]\n"
          ],
          "name": "stdout"
        }
      ]
    },
    {
      "cell_type": "code",
      "metadata": {
        "id": "CnpdgEx8A7C3",
        "colab_type": "code",
        "colab": {}
      },
      "source": [
        "def Add_Nodo(problem, H ,T ) :\n",
        "  #Establecer una una funcion de probabilidad para \n",
        "  # añadir un nuevo nodo dependiendo de los nodos mas cercanos y de las feromonas depositadas\n",
        "  Nodos = list(problem.get_nodes())\n",
        "  return random.choice(   list(set(range(1,len(Nodos))) - set(H) )  )\n",
        "\n",
        "\n",
        "def Incrementa_Feromona(problem, T, H):\n",
        "  #Incrementar segun la calidad de la solución. Añadir una cantidad inversamente proporcional a la distancia total \n",
        "  for i in range(len(H)-1):\n",
        "    T[H[i]][H[i+1]] += 1000/distancia_total(H, problem)\n",
        "  return T\n",
        "\n",
        "def Evaporar_Feromonas(T):\n",
        "  #Podemos elegir diferentes funciones de evaporación dependiendo de la cantidad actual y de la suma total de feromonas depositadas,...\n",
        "  #Evapora 0.3 el valor de la feromona, sin que baje de 1\n",
        "  T = [[ max(T[i][j] - 0.3 , 1) for i in range(len(Nodos)) ] for j in range(len(Nodos))]\n",
        "  return T"
      ],
      "execution_count": 0,
      "outputs": []
    },
    {
      "cell_type": "code",
      "metadata": {
        "id": "tMtdBIJA747p",
        "colab_type": "code",
        "colab": {}
      },
      "source": [
        "# Colonia de hormigas\n",
        "def hormigas(problem, N) :\n",
        "  #problem = datos del problema\n",
        "  #N = Número de agentes(hormigas)\n",
        "    \n",
        "  #Nodos\n",
        "  Nodos = list(problem.get_nodes())\n",
        "    #Aristas\n",
        "  Aristas = list(problem.get_edges()) \n",
        "  \n",
        "  #Inicializa las aristas con una cantidad inicial de feromonas:1\n",
        "  T = [[ 1 for _ in range(len(Nodos)) ] for _ in range(len(Nodos))]\n",
        "  \n",
        "  #Se generan los agentes(hormigas) que serán estructuras de caminos desde 0\n",
        "  Hormiga = [[0] for _ in range(N)]\n",
        "  #Recorre cada agente construyendo la solución\n",
        "  for h in range(N) :\n",
        "    #print(\"\\nAgente:\", h)\n",
        "    #Para cada agente se construye un camino\n",
        "    for i in range(len(Nodos)-1) :\n",
        "      \n",
        "      #Elige el siguiente nodo\n",
        "      Nuevo_Nodo = Add_Nodo(problem, Hormiga[h] ,T )\n",
        "      \n",
        "      Hormiga[h].append(Nuevo_Nodo)     \n",
        "    \n",
        "    #Incrementa feromonas en esa arista \n",
        "    T = Incrementa_Feromona(problem, T, Hormiga[h] )\n",
        "    #print(\"Feromonas(1)\", T)\n",
        "      \n",
        "    #Evapora Feromonas  \n",
        "    T = Evaporar_Feromonas(T)\n",
        "    #print(\"Feromonas(2)\", T)\n",
        "\n",
        "    #Seleccionamos el mejor agente\n",
        "  mejor_solucion = []\n",
        "  mejor_distancia = 10e100\n",
        "  for h in range(N) :\n",
        "    distancia_actual = distancia_total(Hormiga[h], problem)\n",
        "    if distancia_actual < mejor_distancia:\n",
        "      mejor_solucion = Hormiga[h]\n",
        "      mejor_distancia = distancia_actual\n",
        "  \n",
        "  \n",
        "  print(mejor_solucion)\n",
        "  print(mejor_distancia)"
      ],
      "execution_count": 0,
      "outputs": []
    },
    {
      "cell_type": "code",
      "metadata": {
        "id": "olFfV75F-x0k",
        "colab_type": "code",
        "colab": {
          "base_uri": "https://localhost:8080/",
          "height": 51
        },
        "outputId": "3694e91d-6189-4048-a017-8ad4fca262b0"
      },
      "source": [
        "hormigas(problem, 1000)"
      ],
      "execution_count": 90,
      "outputs": [
        {
          "output_type": "stream",
          "text": [
            "[0, 1, 29, 22, 8, 39, 28, 2, 6, 32, 31, 26, 30, 33, 20, 13, 38, 4, 41, 10, 12, 9, 5, 19, 24, 25, 23, 34, 7, 27, 17, 15, 14, 11, 21, 40, 3, 16, 36, 35, 37, 18]\n",
            "3791\n"
          ],
          "name": "stdout"
        }
      ]
    }
  ]
}